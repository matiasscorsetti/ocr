{
 "cells": [
  {
   "cell_type": "code",
   "execution_count": 1,
   "metadata": {},
   "outputs": [],
   "source": [
    "import pandas as pd\n",
    "import numpy as np"
   ]
  },
  {
   "cell_type": "code",
   "execution_count": 2,
   "metadata": {},
   "outputs": [],
   "source": [
    "from sklearn import metrics\n",
    "from sklearn.model_selection import train_test_split, GridSearchCV, StratifiedKFold\n",
    "from sklearn.ensemble import AdaBoostClassifier, RandomForestClassifier, GradientBoostingClassifier\n",
    "from sklearn.tree import DecisionTreeClassifier\n",
    "from xgboost import XGBClassifier"
   ]
  },
  {
   "cell_type": "code",
   "execution_count": 3,
   "metadata": {},
   "outputs": [
    {
     "name": "stderr",
     "output_type": "stream",
     "text": [
      "C:\\Users\\scors\\.conda\\envs\\raxar\\lib\\site-packages\\sklearn\\utils\\deprecation.py:144: FutureWarning: The sklearn.metrics.classification module is  deprecated in version 0.22 and will be removed in version 0.24. The corresponding classes / functions should instead be imported from sklearn.metrics. Anything that cannot be imported from sklearn.metrics is now part of the private API.\n",
      "  warnings.warn(message, FutureWarning)\n"
     ]
    }
   ],
   "source": [
    "from yellowbrick.classifier import ROCAUC\n",
    "from yellowbrick.classifier import confusion_matrix\n",
    "from yellowbrick.classifier import ClassPredictionError\n",
    "from yellowbrick.classifier import ClassificationReport"
   ]
  },
  {
   "cell_type": "code",
   "execution_count": 4,
   "metadata": {},
   "outputs": [],
   "source": [
    "def plot(model, classes, X_train, y_train, X_test, y_test):\n",
    "    \n",
    "    # Instantiate the classification model and visualizer\n",
    "    visualizer = ClassPredictionError(\n",
    "        model, classes=classes\n",
    "    )\n",
    "    # Fit the training data to the visualizer\n",
    "    visualizer.fit(X_train, y_train)\n",
    "    # Evaluate the model on the test data\n",
    "    visualizer.score(X_test, y_test)\n",
    "    # Draw visualization\n",
    "    visualizer.show()\n",
    "    \n",
    "    # Instantiate the visualizer with the classification model\n",
    "    confusion_matrix(\n",
    "        model,\n",
    "        X_train, y_train, X_test, y_test,\n",
    "        classes=classes,\n",
    "    )\n",
    "    \n",
    "    # Instantiate the visualizer with the classification model\n",
    "    visualizer = ROCAUC(model, classes=classes)\n",
    "    visualizer.fit(X_train, y_train)        # Fit the training data to the visualizer\n",
    "    visualizer.score(X_test, y_test)        # Evaluate the model on the test data\n",
    "    visualizer.show()                       # Finalize and show the figure\n",
    "    \n",
    "    visualizer = ClassificationReport(model, classes=classes, support=True)\n",
    "\n",
    "    visualizer.fit(X_train, y_train)        # Fit the visualizer and the model\n",
    "    visualizer.score(X_test, y_test)        # Evaluate the model on the test data\n",
    "    visualizer.show()                       # Finalize and show the figure"
   ]
  },
  {
   "cell_type": "code",
   "execution_count": 27,
   "metadata": {},
   "outputs": [],
   "source": [
    "df = pd.read_csv('../data/processed/data.csv', index_col=[0])"
   ]
  },
  {
   "cell_type": "code",
   "execution_count": 28,
   "metadata": {},
   "outputs": [
    {
     "data": {
      "text/plain": [
       "(432, 36)"
      ]
     },
     "execution_count": 28,
     "metadata": {},
     "output_type": "execute_result"
    }
   ],
   "source": [
    "df.shape"
   ]
  },
  {
   "cell_type": "code",
   "execution_count": 29,
   "metadata": {},
   "outputs": [
    {
     "data": {
      "text/plain": [
       "Index(['n_page', 'page_height', 'page_width', 'n_block', 'block_vert',\n",
       "       'block_confidence', 'n_paragraph', 'paragraph_vert',\n",
       "       'paragraph_confidence', 'n_word', 'word_vert', 'word_confidence',\n",
       "       'text', 'symbol_search_pos', 'n_symbol_search_find', 'y', 'block_area',\n",
       "       'paragraph_area', 'word_area', 'block_weigh', 'paragraph_weigh',\n",
       "       'word_weigh', 'rel_word_block_area', 'rel_word_parag_area',\n",
       "       'rel_parag_block_area', 'text_join', 'prev_symbol', 'next_symbol',\n",
       "       'text_type', 'prev_text_type', 'next_text_type', 'text_len',\n",
       "       'is_a_symbol', 'text_numbers', 'number_type', 'number'],\n",
       "      dtype='object')"
      ]
     },
     "execution_count": 29,
     "metadata": {},
     "output_type": "execute_result"
    }
   ],
   "source": [
    "df.columns"
   ]
  },
  {
   "cell_type": "code",
   "execution_count": 30,
   "metadata": {},
   "outputs": [],
   "source": [
    "features = [\n",
    "            'block_confidence',\n",
    "            'paragraph_confidence',\n",
    "            'word_confidence',\n",
    "            'block_weigh',\n",
    "            'paragraph_weigh',\n",
    "            'word_weigh',\n",
    "            'rel_word_block_area',\n",
    "            'rel_word_parag_area',\n",
    "            'rel_parag_block_area',\n",
    "            'prev_symbol',\n",
    "            'next_symbol',\n",
    "            'text_type',\n",
    "            'prev_text_type',\n",
    "            'next_text_type',\n",
    "            'text_len',\n",
    "            'is_a_symbol',\n",
    "            'number_type',\n",
    "           ]"
   ]
  },
  {
   "cell_type": "code",
   "execution_count": 31,
   "metadata": {},
   "outputs": [],
   "source": [
    "X = df[features].copy()"
   ]
  },
  {
   "cell_type": "code",
   "execution_count": 32,
   "metadata": {},
   "outputs": [
    {
     "data": {
      "text/html": [
       "<div>\n",
       "<style scoped>\n",
       "    .dataframe tbody tr th:only-of-type {\n",
       "        vertical-align: middle;\n",
       "    }\n",
       "\n",
       "    .dataframe tbody tr th {\n",
       "        vertical-align: top;\n",
       "    }\n",
       "\n",
       "    .dataframe thead th {\n",
       "        text-align: right;\n",
       "    }\n",
       "</style>\n",
       "<table border=\"1\" class=\"dataframe\">\n",
       "  <thead>\n",
       "    <tr style=\"text-align: right;\">\n",
       "      <th></th>\n",
       "      <th>428</th>\n",
       "      <th>199</th>\n",
       "      <th>419</th>\n",
       "      <th>98</th>\n",
       "      <th>367</th>\n",
       "      <th>348</th>\n",
       "      <th>26</th>\n",
       "    </tr>\n",
       "  </thead>\n",
       "  <tbody>\n",
       "    <tr>\n",
       "      <th>block_confidence</th>\n",
       "      <td>0.990000</td>\n",
       "      <td>0.910000</td>\n",
       "      <td>0.99</td>\n",
       "      <td>0.860000</td>\n",
       "      <td>0.690000</td>\n",
       "      <td>0.950000</td>\n",
       "      <td>0.980000</td>\n",
       "    </tr>\n",
       "    <tr>\n",
       "      <th>paragraph_confidence</th>\n",
       "      <td>0.990000</td>\n",
       "      <td>0.910000</td>\n",
       "      <td>0.99</td>\n",
       "      <td>0.860000</td>\n",
       "      <td>0.600000</td>\n",
       "      <td>0.960000</td>\n",
       "      <td>0.980000</td>\n",
       "    </tr>\n",
       "    <tr>\n",
       "      <th>word_confidence</th>\n",
       "      <td>0.990000</td>\n",
       "      <td>0.930000</td>\n",
       "      <td>0.99</td>\n",
       "      <td>0.270000</td>\n",
       "      <td>0.670000</td>\n",
       "      <td>0.930000</td>\n",
       "      <td>0.950000</td>\n",
       "    </tr>\n",
       "    <tr>\n",
       "      <th>block_weigh</th>\n",
       "      <td>0.084029</td>\n",
       "      <td>1.000000</td>\n",
       "      <td>1.00</td>\n",
       "      <td>1.000000</td>\n",
       "      <td>0.263837</td>\n",
       "      <td>0.545137</td>\n",
       "      <td>0.078814</td>\n",
       "    </tr>\n",
       "    <tr>\n",
       "      <th>paragraph_weigh</th>\n",
       "      <td>0.084029</td>\n",
       "      <td>1.000000</td>\n",
       "      <td>1.00</td>\n",
       "      <td>1.000000</td>\n",
       "      <td>0.093088</td>\n",
       "      <td>0.180971</td>\n",
       "      <td>0.303223</td>\n",
       "    </tr>\n",
       "    <tr>\n",
       "      <th>word_weigh</th>\n",
       "      <td>0.001553</td>\n",
       "      <td>0.507777</td>\n",
       "      <td>1.00</td>\n",
       "      <td>0.113342</td>\n",
       "      <td>0.068182</td>\n",
       "      <td>0.136468</td>\n",
       "      <td>0.034267</td>\n",
       "    </tr>\n",
       "    <tr>\n",
       "      <th>rel_word_block_area</th>\n",
       "      <td>0.018477</td>\n",
       "      <td>0.187303</td>\n",
       "      <td>1.00</td>\n",
       "      <td>0.095790</td>\n",
       "      <td>0.146680</td>\n",
       "      <td>0.185034</td>\n",
       "      <td>0.084558</td>\n",
       "    </tr>\n",
       "    <tr>\n",
       "      <th>rel_word_parag_area</th>\n",
       "      <td>0.018477</td>\n",
       "      <td>0.187303</td>\n",
       "      <td>1.00</td>\n",
       "      <td>0.095790</td>\n",
       "      <td>0.415730</td>\n",
       "      <td>0.557377</td>\n",
       "      <td>0.084558</td>\n",
       "    </tr>\n",
       "    <tr>\n",
       "      <th>rel_parag_block_area</th>\n",
       "      <td>1.000000</td>\n",
       "      <td>1.000000</td>\n",
       "      <td>1.00</td>\n",
       "      <td>1.000000</td>\n",
       "      <td>0.352825</td>\n",
       "      <td>0.331973</td>\n",
       "      <td>1.000000</td>\n",
       "    </tr>\n",
       "    <tr>\n",
       "      <th>prev_symbol</th>\n",
       "      <td>0.000000</td>\n",
       "      <td>1.000000</td>\n",
       "      <td>0.00</td>\n",
       "      <td>0.000000</td>\n",
       "      <td>0.000000</td>\n",
       "      <td>0.000000</td>\n",
       "      <td>0.000000</td>\n",
       "    </tr>\n",
       "    <tr>\n",
       "      <th>next_symbol</th>\n",
       "      <td>0.000000</td>\n",
       "      <td>0.000000</td>\n",
       "      <td>0.00</td>\n",
       "      <td>0.000000</td>\n",
       "      <td>0.000000</td>\n",
       "      <td>0.000000</td>\n",
       "      <td>0.000000</td>\n",
       "    </tr>\n",
       "    <tr>\n",
       "      <th>text_type</th>\n",
       "      <td>1.000000</td>\n",
       "      <td>1.000000</td>\n",
       "      <td>0.00</td>\n",
       "      <td>1.000000</td>\n",
       "      <td>1.000000</td>\n",
       "      <td>1.000000</td>\n",
       "      <td>0.000000</td>\n",
       "    </tr>\n",
       "    <tr>\n",
       "      <th>prev_text_type</th>\n",
       "      <td>1.000000</td>\n",
       "      <td>1.000000</td>\n",
       "      <td>0.00</td>\n",
       "      <td>0.000000</td>\n",
       "      <td>0.000000</td>\n",
       "      <td>1.000000</td>\n",
       "      <td>1.000000</td>\n",
       "    </tr>\n",
       "    <tr>\n",
       "      <th>next_text_type</th>\n",
       "      <td>1.000000</td>\n",
       "      <td>1.000000</td>\n",
       "      <td>1.00</td>\n",
       "      <td>0.000000</td>\n",
       "      <td>1.000000</td>\n",
       "      <td>0.000000</td>\n",
       "      <td>1.000000</td>\n",
       "    </tr>\n",
       "    <tr>\n",
       "      <th>text_len</th>\n",
       "      <td>1.000000</td>\n",
       "      <td>11.000000</td>\n",
       "      <td>3.00</td>\n",
       "      <td>3.000000</td>\n",
       "      <td>6.000000</td>\n",
       "      <td>9.000000</td>\n",
       "      <td>3.000000</td>\n",
       "    </tr>\n",
       "    <tr>\n",
       "      <th>is_a_symbol</th>\n",
       "      <td>0.000000</td>\n",
       "      <td>0.000000</td>\n",
       "      <td>0.00</td>\n",
       "      <td>0.000000</td>\n",
       "      <td>0.000000</td>\n",
       "      <td>0.000000</td>\n",
       "      <td>0.000000</td>\n",
       "    </tr>\n",
       "    <tr>\n",
       "      <th>number_type</th>\n",
       "      <td>0.000000</td>\n",
       "      <td>0.000000</td>\n",
       "      <td>1.00</td>\n",
       "      <td>0.000000</td>\n",
       "      <td>0.000000</td>\n",
       "      <td>0.000000</td>\n",
       "      <td>1.000000</td>\n",
       "    </tr>\n",
       "  </tbody>\n",
       "</table>\n",
       "</div>"
      ],
      "text/plain": [
       "                           428        199   419       98        367       348  \\\n",
       "block_confidence      0.990000   0.910000  0.99  0.860000  0.690000  0.950000   \n",
       "paragraph_confidence  0.990000   0.910000  0.99  0.860000  0.600000  0.960000   \n",
       "word_confidence       0.990000   0.930000  0.99  0.270000  0.670000  0.930000   \n",
       "block_weigh           0.084029   1.000000  1.00  1.000000  0.263837  0.545137   \n",
       "paragraph_weigh       0.084029   1.000000  1.00  1.000000  0.093088  0.180971   \n",
       "word_weigh            0.001553   0.507777  1.00  0.113342  0.068182  0.136468   \n",
       "rel_word_block_area   0.018477   0.187303  1.00  0.095790  0.146680  0.185034   \n",
       "rel_word_parag_area   0.018477   0.187303  1.00  0.095790  0.415730  0.557377   \n",
       "rel_parag_block_area  1.000000   1.000000  1.00  1.000000  0.352825  0.331973   \n",
       "prev_symbol           0.000000   1.000000  0.00  0.000000  0.000000  0.000000   \n",
       "next_symbol           0.000000   0.000000  0.00  0.000000  0.000000  0.000000   \n",
       "text_type             1.000000   1.000000  0.00  1.000000  1.000000  1.000000   \n",
       "prev_text_type        1.000000   1.000000  0.00  0.000000  0.000000  1.000000   \n",
       "next_text_type        1.000000   1.000000  1.00  0.000000  1.000000  0.000000   \n",
       "text_len              1.000000  11.000000  3.00  3.000000  6.000000  9.000000   \n",
       "is_a_symbol           0.000000   0.000000  0.00  0.000000  0.000000  0.000000   \n",
       "number_type           0.000000   0.000000  1.00  0.000000  0.000000  0.000000   \n",
       "\n",
       "                           26   \n",
       "block_confidence      0.980000  \n",
       "paragraph_confidence  0.980000  \n",
       "word_confidence       0.950000  \n",
       "block_weigh           0.078814  \n",
       "paragraph_weigh       0.303223  \n",
       "word_weigh            0.034267  \n",
       "rel_word_block_area   0.084558  \n",
       "rel_word_parag_area   0.084558  \n",
       "rel_parag_block_area  1.000000  \n",
       "prev_symbol           0.000000  \n",
       "next_symbol           0.000000  \n",
       "text_type             0.000000  \n",
       "prev_text_type        1.000000  \n",
       "next_text_type        1.000000  \n",
       "text_len              3.000000  \n",
       "is_a_symbol           0.000000  \n",
       "number_type           1.000000  "
      ]
     },
     "execution_count": 32,
     "metadata": {},
     "output_type": "execute_result"
    }
   ],
   "source": [
    "X.sample(7).T"
   ]
  },
  {
   "cell_type": "code",
   "execution_count": 130,
   "metadata": {},
   "outputs": [],
   "source": [
    "y = df['y'].copy()"
   ]
  },
  {
   "cell_type": "code",
   "execution_count": 34,
   "metadata": {},
   "outputs": [
    {
     "data": {
      "text/plain": [
       "31     0\n",
       "430    0\n",
       "314    1\n",
       "418    0\n",
       "294    0\n",
       "369    0\n",
       "115    0\n",
       "Name: y, dtype: int64"
      ]
     },
     "execution_count": 34,
     "metadata": {},
     "output_type": "execute_result"
    }
   ],
   "source": [
    "y.sample(7)"
   ]
  },
  {
   "cell_type": "code",
   "execution_count": 35,
   "metadata": {},
   "outputs": [
    {
     "data": {
      "text/plain": [
       "block_confidence        0\n",
       "paragraph_confidence    0\n",
       "word_confidence         0\n",
       "block_weigh             0\n",
       "paragraph_weigh         0\n",
       "word_weigh              0\n",
       "rel_word_block_area     0\n",
       "rel_word_parag_area     0\n",
       "rel_parag_block_area    0\n",
       "prev_symbol             0\n",
       "next_symbol             0\n",
       "text_type               0\n",
       "prev_text_type          0\n",
       "next_text_type          0\n",
       "text_len                0\n",
       "is_a_symbol             0\n",
       "number_type             0\n",
       "dtype: int64"
      ]
     },
     "execution_count": 35,
     "metadata": {},
     "output_type": "execute_result"
    }
   ],
   "source": [
    "X.isna().sum()"
   ]
  },
  {
   "cell_type": "code",
   "execution_count": 36,
   "metadata": {},
   "outputs": [],
   "source": [
    "test_size = 0.2"
   ]
  },
  {
   "cell_type": "code",
   "execution_count": 37,
   "metadata": {},
   "outputs": [],
   "source": [
    "#Create the train and test data\n",
    "X_train, X_test, y_train, y_test = train_test_split(X, y, test_size=test_size, stratify=y)"
   ]
  },
  {
   "cell_type": "code",
   "execution_count": 38,
   "metadata": {},
   "outputs": [],
   "source": [
    "classes = ['not_price', 'price']"
   ]
  },
  {
   "cell_type": "code",
   "execution_count": 39,
   "metadata": {},
   "outputs": [],
   "source": [
    "model = AdaBoostClassifier()"
   ]
  },
  {
   "cell_type": "code",
   "execution_count": 40,
   "metadata": {
    "scrolled": false
   },
   "outputs": [
    {
     "name": "stderr",
     "output_type": "stream",
     "text": [
      "C:\\Users\\scors\\.conda\\envs\\raxar\\lib\\site-packages\\sklearn\\base.py:197: FutureWarning: From version 0.24, get_params will raise an AttributeError if a parameter cannot be retrieved as an instance attribute. Previously it would return None.\n",
      "  FutureWarning)\n"
     ]
    },
    {
     "data": {
      "image/png": "[encoded data removed]",
      "text/plain": [
       "<Figure size 576x396 with 1 Axes>"
      ]
     },
     "metadata": {},
     "output_type": "display_data"
    },
    {
     "name": "stderr",
     "output_type": "stream",
     "text": [
      "C:\\Users\\scors\\.conda\\envs\\raxar\\lib\\site-packages\\sklearn\\base.py:197: FutureWarning: From version 0.24, get_params will raise an AttributeError if a parameter cannot be retrieved as an instance attribute. Previously it would return None.\n",
      "  FutureWarning)\n"
     ]
    },
    {
     "data": {
      "image/png": "[encoded data removed]",
      "text/plain": [
       "<Figure size 576x396 with 1 Axes>"
      ]
     },
     "metadata": {},
     "output_type": "display_data"
    },
    {
     "name": "stderr",
     "output_type": "stream",
     "text": [
      "C:\\Users\\scors\\.conda\\envs\\raxar\\lib\\site-packages\\sklearn\\base.py:197: FutureWarning: From version 0.24, get_params will raise an AttributeError if a parameter cannot be retrieved as an instance attribute. Previously it would return None.\n",
      "  FutureWarning)\n"
     ]
    },
    {
     "data": {
      "image/png": "[encoded data removed]",
      "text/plain": [
       "<Figure size 576x396 with 1 Axes>"
      ]
     },
     "metadata": {},
     "output_type": "display_data"
    },
    {
     "name": "stderr",
     "output_type": "stream",
     "text": [
      "C:\\Users\\scors\\.conda\\envs\\raxar\\lib\\site-packages\\sklearn\\base.py:197: FutureWarning: From version 0.24, get_params will raise an AttributeError if a parameter cannot be retrieved as an instance attribute. Previously it would return None.\n",
      "  FutureWarning)\n"
     ]
    },
    {
     "data": {
      "image/png": "[encoded data removed]",
      "text/plain": [
       "<Figure size 576x396 with 2 Axes>"
      ]
     },
     "metadata": {},
     "output_type": "display_data"
    }
   ],
   "source": [
    "plot(model, classes, X_train, y_train, X_test, y_test)"
   ]
  },
  {
   "cell_type": "code",
   "execution_count": 41,
   "metadata": {},
   "outputs": [],
   "source": [
    "model = RandomForestClassifier()"
   ]
  },
  {
   "cell_type": "code",
   "execution_count": 42,
   "metadata": {
    "scrolled": false
   },
   "outputs": [
    {
     "name": "stderr",
     "output_type": "stream",
     "text": [
      "C:\\Users\\scors\\.conda\\envs\\raxar\\lib\\site-packages\\sklearn\\base.py:197: FutureWarning: From version 0.24, get_params will raise an AttributeError if a parameter cannot be retrieved as an instance attribute. Previously it would return None.\n",
      "  FutureWarning)\n"
     ]
    },
    {
     "data": {
      "image/png": "[encoded data removed]",
      "text/plain": [
       "<Figure size 576x396 with 1 Axes>"
      ]
     },
     "metadata": {},
     "output_type": "display_data"
    },
    {
     "name": "stderr",
     "output_type": "stream",
     "text": [
      "C:\\Users\\scors\\.conda\\envs\\raxar\\lib\\site-packages\\sklearn\\base.py:197: FutureWarning: From version 0.24, get_params will raise an AttributeError if a parameter cannot be retrieved as an instance attribute. Previously it would return None.\n",
      "  FutureWarning)\n"
     ]
    },
    {
     "data": {
      "image/png": "[encoded data removed]",
      "text/plain": [
       "<Figure size 576x396 with 1 Axes>"
      ]
     },
     "metadata": {},
     "output_type": "display_data"
    },
    {
     "name": "stderr",
     "output_type": "stream",
     "text": [
      "C:\\Users\\scors\\.conda\\envs\\raxar\\lib\\site-packages\\sklearn\\base.py:197: FutureWarning: From version 0.24, get_params will raise an AttributeError if a parameter cannot be retrieved as an instance attribute. Previously it would return None.\n",
      "  FutureWarning)\n"
     ]
    },
    {
     "data": {
      "image/png": "[encoded data removed]",
      "text/plain": [
       "<Figure size 576x396 with 1 Axes>"
      ]
     },
     "metadata": {},
     "output_type": "display_data"
    },
    {
     "name": "stderr",
     "output_type": "stream",
     "text": [
      "C:\\Users\\scors\\.conda\\envs\\raxar\\lib\\site-packages\\sklearn\\base.py:197: FutureWarning: From version 0.24, get_params will raise an AttributeError if a parameter cannot be retrieved as an instance attribute. Previously it would return None.\n",
      "  FutureWarning)\n"
     ]
    },
    {
     "data": {
      "image/png": "[encoded data removed]",
      "text/plain": [
       "<Figure size 576x396 with 2 Axes>"
      ]
     },
     "metadata": {},
     "output_type": "display_data"
    }
   ],
   "source": [
    "plot(model, classes, X_train, y_train, X_test, y_test)"
   ]
  },
  {
   "cell_type": "code",
   "execution_count": 43,
   "metadata": {},
   "outputs": [],
   "source": [
    "model = GradientBoostingClassifier()"
   ]
  },
  {
   "cell_type": "code",
   "execution_count": 44,
   "metadata": {
    "scrolled": false
   },
   "outputs": [
    {
     "name": "stderr",
     "output_type": "stream",
     "text": [
      "C:\\Users\\scors\\.conda\\envs\\raxar\\lib\\site-packages\\sklearn\\base.py:197: FutureWarning: From version 0.24, get_params will raise an AttributeError if a parameter cannot be retrieved as an instance attribute. Previously it would return None.\n",
      "  FutureWarning)\n"
     ]
    },
    {
     "data": {
      "image/png": "[encoded data removed]",
      "text/plain": [
       "<Figure size 576x396 with 1 Axes>"
      ]
     },
     "metadata": {},
     "output_type": "display_data"
    },
    {
     "name": "stderr",
     "output_type": "stream",
     "text": [
      "C:\\Users\\scors\\.conda\\envs\\raxar\\lib\\site-packages\\sklearn\\base.py:197: FutureWarning: From version 0.24, get_params will raise an AttributeError if a parameter cannot be retrieved as an instance attribute. Previously it would return None.\n",
      "  FutureWarning)\n"
     ]
    },
    {
     "data": {
      "image/png": "[encoded data removed]",
      "text/plain": [
       "<Figure size 576x396 with 1 Axes>"
      ]
     },
     "metadata": {},
     "output_type": "display_data"
    },
    {
     "name": "stderr",
     "output_type": "stream",
     "text": [
      "C:\\Users\\scors\\.conda\\envs\\raxar\\lib\\site-packages\\sklearn\\base.py:197: FutureWarning: From version 0.24, get_params will raise an AttributeError if a parameter cannot be retrieved as an instance attribute. Previously it would return None.\n",
      "  FutureWarning)\n"
     ]
    },
    {
     "data": {
      "image/png": "[encoded data removed]",
      "text/plain": [
       "<Figure size 576x396 with 1 Axes>"
      ]
     },
     "metadata": {},
     "output_type": "display_data"
    },
    {
     "name": "stderr",
     "output_type": "stream",
     "text": [
      "C:\\Users\\scors\\.conda\\envs\\raxar\\lib\\site-packages\\sklearn\\base.py:197: FutureWarning: From version 0.24, get_params will raise an AttributeError if a parameter cannot be retrieved as an instance attribute. Previously it would return None.\n",
      "  FutureWarning)\n"
     ]
    },
    {
     "data": {
      "image/png": "[encoded data removed]",
      "text/plain": [
       "<Figure size 576x396 with 2 Axes>"
      ]
     },
     "metadata": {},
     "output_type": "display_data"
    }
   ],
   "source": [
    "plot(model, classes, X_train, y_train, X_test, y_test)"
   ]
  },
  {
   "cell_type": "code",
   "execution_count": 45,
   "metadata": {},
   "outputs": [],
   "source": [
    "model = XGBClassifier()"
   ]
  },
  {
   "cell_type": "code",
   "execution_count": 46,
   "metadata": {},
   "outputs": [
    {
     "name": "stdout",
     "output_type": "stream",
     "text": [
      "f1: 1.0\n",
      "- precision: 1.0\n",
      "- recall 1.0\n",
      "- confusion_matrix\n",
      "[[83  0]\n",
      " [ 0  4]]\n"
     ]
    }
   ],
   "source": [
    "model.fit(X_train.values, y_train.values)\n",
    "y_pred = model.predict(X_test.values)\n",
    "print('f1:', metrics.f1_score(y_test, y_pred, average='macro'))\n",
    "print('- precision:', metrics.precision_score(y_test, y_pred, average='macro'))\n",
    "print('- recall', metrics.recall_score(y_test, y_pred, average='macro'))\n",
    "print('- confusion_matrix')\n",
    "print( metrics.confusion_matrix(y_test, y_pred))"
   ]
  },
  {
   "cell_type": "code",
   "execution_count": 49,
   "metadata": {},
   "outputs": [
    {
     "data": {
      "text/plain": [
       "4"
      ]
     },
     "execution_count": 49,
     "metadata": {},
     "output_type": "execute_result"
    }
   ],
   "source": [
    "skf = StratifiedKFold(n_splits=4, shuffle=True)\n",
    "skf.get_n_splits(X.values, y.values)"
   ]
  },
  {
   "cell_type": "markdown",
   "metadata": {},
   "source": [
    "AdaBoost"
   ]
  },
  {
   "cell_type": "code",
   "execution_count": 50,
   "metadata": {},
   "outputs": [],
   "source": [
    "model = AdaBoostClassifier()"
   ]
  },
  {
   "cell_type": "code",
   "execution_count": 51,
   "metadata": {},
   "outputs": [
    {
     "name": "stdout",
     "output_type": "stream",
     "text": [
      "f1: 0.9420289855072463\n",
      "- confusion_matrix\n",
      "[[103   1]\n",
      " [  0   4]]\n",
      "f1: 1.0\n",
      "- confusion_matrix\n",
      "[[104   0]\n",
      " [  0   4]]\n",
      "f1: 0.9521064301552107\n",
      "- confusion_matrix\n",
      "[[102   1]\n",
      " [  0   5]]\n",
      "f1: 1.0\n",
      "- confusion_matrix\n",
      "[[103   0]\n",
      " [  0   5]]\n"
     ]
    }
   ],
   "source": [
    "for train_index, test_index in skf.split(X.values, y.values):\n",
    "    X_train, X_test = X.iloc[train_index], X.iloc[test_index]\n",
    "    y_train, y_test = y.iloc[train_index], y.iloc[test_index]\n",
    "    model.fit(X_train.values, y_train.values)\n",
    "    y_pred = model.predict(X_test.values)\n",
    "    print('f1:', metrics.f1_score(y_test, y_pred, average='macro'))\n",
    "    print('- confusion_matrix')\n",
    "    print( metrics.confusion_matrix(y_test, y_pred))"
   ]
  },
  {
   "cell_type": "code",
   "execution_count": 52,
   "metadata": {},
   "outputs": [],
   "source": [
    "model = AdaBoostClassifier()"
   ]
  },
  {
   "cell_type": "code",
   "execution_count": 53,
   "metadata": {},
   "outputs": [],
   "source": [
    "param_grid = {\n",
    "            'base_estimator': [DecisionTreeClassifier(max_depth=1), \n",
    "                               DecisionTreeClassifier(max_depth=2),\n",
    "                               DecisionTreeClassifier(max_depth=3)],\n",
    "            'n_estimators': np.arange(1,100,2),\n",
    "            'learning_rate': [0.01, 0.1, 0.5, 1],\n",
    "             }"
   ]
  },
  {
   "cell_type": "code",
   "execution_count": 54,
   "metadata": {},
   "outputs": [],
   "source": [
    "grid_cv = GridSearchCV(model, param_grid=param_grid, scoring ='f1', cv=skf.split(X,y))"
   ]
  },
  {
   "cell_type": "code",
   "execution_count": 55,
   "metadata": {},
   "outputs": [
    {
     "data": {
      "text/plain": [
       "{'base_estimator': DecisionTreeClassifier(ccp_alpha=0.0, class_weight=None, criterion='gini',\n",
       "                        max_depth=1, max_features=None, max_leaf_nodes=None,\n",
       "                        min_impurity_decrease=0.0, min_impurity_split=None,\n",
       "                        min_samples_leaf=1, min_samples_split=2,\n",
       "                        min_weight_fraction_leaf=0.0, presort='deprecated',\n",
       "                        random_state=None, splitter='best'),\n",
       " 'learning_rate': 0.1,\n",
       " 'n_estimators': 59}"
      ]
     },
     "execution_count": 55,
     "metadata": {},
     "output_type": "execute_result"
    }
   ],
   "source": [
    "grid_cv.fit(X.values, y.values)\n",
    "grid_cv.best_params_"
   ]
  },
  {
   "cell_type": "code",
   "execution_count": 56,
   "metadata": {},
   "outputs": [],
   "source": [
    "model = AdaBoostClassifier(**grid_cv.best_params_)"
   ]
  },
  {
   "cell_type": "code",
   "execution_count": 57,
   "metadata": {},
   "outputs": [
    {
     "name": "stdout",
     "output_type": "stream",
     "text": [
      "f1: 1.0\n",
      "- precision: 1.0\n",
      "- recall 1.0\n",
      "- confusion_matrix\n",
      "[[104   0]\n",
      " [  0   4]]\n",
      "f1: 1.0\n",
      "- precision: 1.0\n",
      "- recall 1.0\n",
      "- confusion_matrix\n",
      "[[104   0]\n",
      " [  0   4]]\n",
      "f1: 1.0\n",
      "- precision: 1.0\n",
      "- recall 1.0\n",
      "- confusion_matrix\n",
      "[[103   0]\n",
      " [  0   5]]\n",
      "f1: 1.0\n",
      "- precision: 1.0\n",
      "- recall 1.0\n",
      "- confusion_matrix\n",
      "[[103   0]\n",
      " [  0   5]]\n"
     ]
    }
   ],
   "source": [
    "for train_index, test_index in skf.split(X.values, y.values):\n",
    "    X_train, X_test = X.iloc[train_index], X.iloc[test_index]\n",
    "    y_train, y_test = y.iloc[train_index], y.iloc[test_index]\n",
    "    model.fit(X_train.values, y_train.values)\n",
    "    y_pred = model.predict(X_test.values)\n",
    "    print('f1:', metrics.f1_score(y_test, y_pred, average='macro'))\n",
    "    print('- precision:', metrics.precision_score(y_test, y_pred, average='macro'))\n",
    "    print('- recall', metrics.recall_score(y_test, y_pred, average='macro'))\n",
    "    print('- confusion_matrix')\n",
    "    print( metrics.confusion_matrix(y_test, y_pred))"
   ]
  },
  {
   "cell_type": "code",
   "execution_count": 58,
   "metadata": {},
   "outputs": [],
   "source": [
    "X_train, X_test, y_train, y_test = train_test_split(X.values, y.values, test_size=test_size, stratify=y.values)"
   ]
  },
  {
   "cell_type": "code",
   "execution_count": 59,
   "metadata": {},
   "outputs": [],
   "source": [
    "fit_model = model.fit(X_train, y_train)"
   ]
  },
  {
   "cell_type": "code",
   "execution_count": 60,
   "metadata": {},
   "outputs": [
    {
     "name": "stdout",
     "output_type": "stream",
     "text": [
      "f1: 1.0\n",
      "- precision: 1.0\n",
      "- recall 1.0\n",
      "- confusion_matrix\n",
      "[[83  0]\n",
      " [ 0  4]]\n"
     ]
    }
   ],
   "source": [
    "y_pred = fit_model.predict(X_test)\n",
    "print('f1:', metrics.f1_score(y_test, y_pred, average='macro'))\n",
    "print('- precision:', metrics.precision_score(y_test, y_pred, average='macro'))\n",
    "print('- recall', metrics.recall_score(y_test, y_pred, average='macro'))\n",
    "print('- confusion_matrix')\n",
    "print( metrics.confusion_matrix(y_test, y_pred))"
   ]
  },
  {
   "cell_type": "markdown",
   "metadata": {},
   "source": [
    "Random Forest"
   ]
  },
  {
   "cell_type": "code",
   "execution_count": 61,
   "metadata": {},
   "outputs": [],
   "source": [
    "model = RandomForestClassifier()"
   ]
  },
  {
   "cell_type": "code",
   "execution_count": 62,
   "metadata": {},
   "outputs": [],
   "source": [
    "param_grid = { \n",
    "                'n_estimators': [5, 10, 25, 50, 75, 100, 200],\n",
    "                'max_features': ['auto', 'sqrt', 'log2'],\n",
    "                'max_depth': [None, 1, 3, 5, 10]\n",
    "            \n",
    "            }"
   ]
  },
  {
   "cell_type": "code",
   "execution_count": 63,
   "metadata": {},
   "outputs": [],
   "source": [
    "grid_cv = GridSearchCV(model, param_grid=param_grid, scoring ='f1', cv=skf.split(X,y))"
   ]
  },
  {
   "cell_type": "code",
   "execution_count": 64,
   "metadata": {},
   "outputs": [
    {
     "data": {
      "text/plain": [
       "{'max_depth': None, 'max_features': 'auto', 'n_estimators': 50}"
      ]
     },
     "execution_count": 64,
     "metadata": {},
     "output_type": "execute_result"
    }
   ],
   "source": [
    "grid_cv.fit(X.values, y.values)\n",
    "grid_cv.best_params_"
   ]
  },
  {
   "cell_type": "code",
   "execution_count": 65,
   "metadata": {},
   "outputs": [],
   "source": [
    "model = RandomForestClassifier(**grid_cv.best_params_)"
   ]
  },
  {
   "cell_type": "code",
   "execution_count": 66,
   "metadata": {},
   "outputs": [
    {
     "name": "stdout",
     "output_type": "stream",
     "text": [
      "f1: 1.0\n",
      "- precision: 1.0\n",
      "- recall 1.0\n",
      "- confusion_matrix\n",
      "[[104   0]\n",
      " [  0   4]]\n",
      "f1: 0.9261790840738209\n",
      "- precision: 0.9952380952380953\n",
      "- recall 0.875\n",
      "- confusion_matrix\n",
      "[[104   0]\n",
      " [  1   3]]\n",
      "f1: 0.8701923076923076\n",
      "- precision: 0.9904761904761905\n",
      "- recall 0.8\n",
      "- confusion_matrix\n",
      "[[103   0]\n",
      " [  2   3]]\n",
      "f1: 1.0\n",
      "- precision: 1.0\n",
      "- recall 1.0\n",
      "- confusion_matrix\n",
      "[[103   0]\n",
      " [  0   5]]\n"
     ]
    }
   ],
   "source": [
    "for train_index, test_index in skf.split(X.values, y.values):\n",
    "    X_train, X_test = X.iloc[train_index], X.iloc[test_index]\n",
    "    y_train, y_test = y.iloc[train_index], y.iloc[test_index]\n",
    "    model.fit(X_train.values, y_train.values)\n",
    "    y_pred = model.predict(X_test.values)\n",
    "    print('f1:', metrics.f1_score(y_test, y_pred, average='macro'))\n",
    "    print('- precision:', metrics.precision_score(y_test, y_pred, average='macro'))\n",
    "    print('- recall', metrics.recall_score(y_test, y_pred, average='macro'))\n",
    "    print('- confusion_matrix')\n",
    "    print( metrics.confusion_matrix(y_test, y_pred))"
   ]
  },
  {
   "cell_type": "code",
   "execution_count": 67,
   "metadata": {},
   "outputs": [],
   "source": [
    "X_train, X_test, y_train, y_test = train_test_split(X.values, y.values, test_size=test_size, stratify=y.values)"
   ]
  },
  {
   "cell_type": "code",
   "execution_count": 68,
   "metadata": {},
   "outputs": [],
   "source": [
    "fit_model = model.fit(X_train, y_train)"
   ]
  },
  {
   "cell_type": "code",
   "execution_count": 69,
   "metadata": {},
   "outputs": [
    {
     "name": "stdout",
     "output_type": "stream",
     "text": [
      "f1: 1.0\n",
      "- precision: 1.0\n",
      "- recall 1.0\n",
      "- confusion_matrix\n",
      "[[83  0]\n",
      " [ 0  4]]\n"
     ]
    }
   ],
   "source": [
    "y_pred = fit_model.predict(X_test)\n",
    "print('f1:', metrics.f1_score(y_test, y_pred, average='macro'))\n",
    "print('- precision:', metrics.precision_score(y_test, y_pred, average='macro'))\n",
    "print('- recall', metrics.recall_score(y_test, y_pred, average='macro'))\n",
    "print('- confusion_matrix')\n",
    "print( metrics.confusion_matrix(y_test, y_pred))"
   ]
  },
  {
   "cell_type": "markdown",
   "metadata": {},
   "source": [
    "XG Boost"
   ]
  },
  {
   "cell_type": "code",
   "execution_count": 70,
   "metadata": {},
   "outputs": [],
   "source": [
    "model = XGBClassifier()"
   ]
  },
  {
   "cell_type": "code",
   "execution_count": 71,
   "metadata": {},
   "outputs": [],
   "source": [
    "param_grid = {\n",
    "                'bootstrap': [True],\n",
    "                'max_depth': [80, 90, 100, 110],\n",
    "                'max_features': [2, 3],\n",
    "                'min_samples_leaf': [3, 4, 5],\n",
    "                'min_samples_split': [8, 10, 12],\n",
    "                'n_estimators': [100, 200, 300, 1000]\n",
    "            }"
   ]
  },
  {
   "cell_type": "code",
   "execution_count": 72,
   "metadata": {},
   "outputs": [],
   "source": [
    "grid_cv = GridSearchCV(model, param_grid=param_grid, scoring ='f1', cv=skf.split(X,y))"
   ]
  },
  {
   "cell_type": "code",
   "execution_count": 73,
   "metadata": {
    "scrolled": true
   },
   "outputs": [
    {
     "data": {
      "text/plain": [
       "{'bootstrap': True,\n",
       " 'max_depth': 80,\n",
       " 'max_features': 2,\n",
       " 'min_samples_leaf': 3,\n",
       " 'min_samples_split': 8,\n",
       " 'n_estimators': 100}"
      ]
     },
     "execution_count": 73,
     "metadata": {},
     "output_type": "execute_result"
    }
   ],
   "source": [
    "grid_cv.fit(X.values, y.values)\n",
    "grid_cv.best_params_"
   ]
  },
  {
   "cell_type": "code",
   "execution_count": 74,
   "metadata": {},
   "outputs": [],
   "source": [
    "model = RandomForestClassifier(**grid_cv.best_params_)"
   ]
  },
  {
   "cell_type": "code",
   "execution_count": 75,
   "metadata": {},
   "outputs": [
    {
     "name": "stdout",
     "output_type": "stream",
     "text": [
      "f1: 1.0\n",
      "- precision: 1.0\n",
      "- recall 1.0\n",
      "- confusion_matrix\n",
      "[[104   0]\n",
      " [  0   4]]\n",
      "f1: 0.9261790840738209\n",
      "- precision: 0.9952380952380953\n",
      "- recall 0.875\n",
      "- confusion_matrix\n",
      "[[104   0]\n",
      " [  1   3]]\n",
      "f1: 1.0\n",
      "- precision: 1.0\n",
      "- recall 1.0\n",
      "- confusion_matrix\n",
      "[[103   0]\n",
      " [  0   5]]\n",
      "f1: 0.8701923076923076\n",
      "- precision: 0.9904761904761905\n",
      "- recall 0.8\n",
      "- confusion_matrix\n",
      "[[103   0]\n",
      " [  2   3]]\n"
     ]
    }
   ],
   "source": [
    "for train_index, test_index in skf.split(X.values, y.values):\n",
    "    X_train, X_test = X.iloc[train_index], X.iloc[test_index]\n",
    "    y_train, y_test = y.iloc[train_index], y.iloc[test_index]\n",
    "    model.fit(X_train.values, y_train.values)\n",
    "    y_pred = model.predict(X_test.values)\n",
    "    print('f1:', metrics.f1_score(y_test, y_pred, average='macro'))\n",
    "    print('- precision:', metrics.precision_score(y_test, y_pred, average='macro'))\n",
    "    print('- recall', metrics.recall_score(y_test, y_pred, average='macro'))\n",
    "    print('- confusion_matrix')\n",
    "    print( metrics.confusion_matrix(y_test, y_pred))"
   ]
  },
  {
   "cell_type": "code",
   "execution_count": 76,
   "metadata": {},
   "outputs": [],
   "source": [
    "X_train, X_test, y_train, y_test = train_test_split(X.values, y.values, test_size=test_size, stratify=y.values)"
   ]
  },
  {
   "cell_type": "code",
   "execution_count": 77,
   "metadata": {},
   "outputs": [],
   "source": [
    "fit_model = model.fit(X_train, y_train)"
   ]
  },
  {
   "cell_type": "code",
   "execution_count": 78,
   "metadata": {
    "scrolled": true
   },
   "outputs": [
    {
     "name": "stdout",
     "output_type": "stream",
     "text": [
      "f1: 0.6911242603550296\n",
      "- precision: 0.9825581395348837\n",
      "- recall 0.625\n",
      "- confusion_matrix\n",
      "[[83  0]\n",
      " [ 3  1]]\n"
     ]
    }
   ],
   "source": [
    "y_pred = fit_model.predict(X_test)\n",
    "print('f1:', metrics.f1_score(y_test, y_pred, average='macro'))\n",
    "print('- precision:', metrics.precision_score(y_test, y_pred, average='macro'))\n",
    "print('- recall', metrics.recall_score(y_test, y_pred, average='macro'))\n",
    "print('- confusion_matrix')\n",
    "print( metrics.confusion_matrix(y_test, y_pred))"
   ]
  },
  {
   "cell_type": "markdown",
   "metadata": {},
   "source": [
    "Gradient Boosting"
   ]
  },
  {
   "cell_type": "code",
   "execution_count": 79,
   "metadata": {},
   "outputs": [],
   "source": [
    "model = GradientBoostingClassifier()"
   ]
  },
  {
   "cell_type": "code",
   "execution_count": 80,
   "metadata": {},
   "outputs": [],
   "source": [
    "param_grid = {\n",
    "                \"min_samples_split\": np.linspace(0.1, 0.5, 3),\n",
    "                \"min_samples_leaf\": np.linspace(0.1, 0.5, 3),\n",
    "                \"max_depth\":[3,5,8],\n",
    "                \"n_estimators\":[2, 5, 10, 15]\n",
    "                }"
   ]
  },
  {
   "cell_type": "code",
   "execution_count": 81,
   "metadata": {},
   "outputs": [],
   "source": [
    "grid_cv = GridSearchCV(model, param_grid=param_grid, scoring ='f1', cv=skf.split(X,y))"
   ]
  },
  {
   "cell_type": "code",
   "execution_count": 82,
   "metadata": {},
   "outputs": [
    {
     "data": {
      "text/plain": [
       "{'max_depth': 3,\n",
       " 'min_samples_leaf': 0.1,\n",
       " 'min_samples_split': 0.1,\n",
       " 'n_estimators': 15}"
      ]
     },
     "execution_count": 82,
     "metadata": {},
     "output_type": "execute_result"
    }
   ],
   "source": [
    "grid_cv.fit(X.values, y.values)\n",
    "grid_cv.best_params_"
   ]
  },
  {
   "cell_type": "code",
   "execution_count": 83,
   "metadata": {},
   "outputs": [],
   "source": [
    "model = GradientBoostingClassifier(**grid_cv.best_params_)"
   ]
  },
  {
   "cell_type": "code",
   "execution_count": 84,
   "metadata": {},
   "outputs": [],
   "source": [
    "X_train, X_test, y_train, y_test = train_test_split(X.values, y.values, test_size=test_size, stratify=y.values)"
   ]
  },
  {
   "cell_type": "code",
   "execution_count": 85,
   "metadata": {},
   "outputs": [],
   "source": [
    "fit_model = model.fit(X_train, y_train)"
   ]
  },
  {
   "cell_type": "code",
   "execution_count": 86,
   "metadata": {},
   "outputs": [
    {
     "name": "stdout",
     "output_type": "stream",
     "text": [
      "f1: 0.9255774165953807\n",
      "- precision: 0.9940476190476191\n",
      "- recall 0.875\n",
      "- confusion_matrix\n",
      "[[83  0]\n",
      " [ 1  3]]\n"
     ]
    }
   ],
   "source": [
    "y_pred = fit_model.predict(X_test)\n",
    "print('f1:', metrics.f1_score(y_test, y_pred, average='macro'))\n",
    "print('- precision:', metrics.precision_score(y_test, y_pred, average='macro'))\n",
    "print('- recall', metrics.recall_score(y_test, y_pred, average='macro'))\n",
    "print('- confusion_matrix')\n",
    "print( metrics.confusion_matrix(y_test, y_pred))"
   ]
  },
  {
   "cell_type": "code",
   "execution_count": 87,
   "metadata": {},
   "outputs": [
    {
     "name": "stdout",
     "output_type": "stream",
     "text": [
      "f1: 0.9261790840738209\n",
      "- precision: 0.9952380952380953\n",
      "- recall 0.875\n",
      "- confusion_matrix\n",
      "[[104   0]\n",
      " [  1   3]]\n",
      "f1: 1.0\n",
      "- precision: 1.0\n",
      "- recall 1.0\n",
      "- confusion_matrix\n",
      "[[104   0]\n",
      " [  0   4]]\n",
      "f1: 1.0\n",
      "- precision: 1.0\n",
      "- recall 1.0\n",
      "- confusion_matrix\n",
      "[[103   0]\n",
      " [  0   5]]\n",
      "f1: 0.8701923076923076\n",
      "- precision: 0.9904761904761905\n",
      "- recall 0.8\n",
      "- confusion_matrix\n",
      "[[103   0]\n",
      " [  2   3]]\n"
     ]
    }
   ],
   "source": [
    "for train_index, test_index in skf.split(X.values, y.values):\n",
    "    X_train, X_test = X.iloc[train_index], X.iloc[test_index]\n",
    "    y_train, y_test = y.iloc[train_index], y.iloc[test_index]\n",
    "    model.fit(X_train.values, y_train.values)\n",
    "    y_pred = model.predict(X_test.values)\n",
    "    print('f1:', metrics.f1_score(y_test, y_pred, average='macro'))\n",
    "    print('- precision:', metrics.precision_score(y_test, y_pred, average='macro'))\n",
    "    print('- recall', metrics.recall_score(y_test, y_pred, average='macro'))\n",
    "    print('- confusion_matrix')\n",
    "    print( metrics.confusion_matrix(y_test, y_pred))"
   ]
  },
  {
   "cell_type": "code",
   "execution_count": 88,
   "metadata": {},
   "outputs": [],
   "source": [
    "X_train, X_test, y_train, y_test = train_test_split(X.values, y.values, test_size=test_size, stratify=y.values)"
   ]
  },
  {
   "cell_type": "code",
   "execution_count": 89,
   "metadata": {},
   "outputs": [
    {
     "name": "stdout",
     "output_type": "stream",
     "text": [
      "f1: 0.9255774165953807\n",
      "- precision: 0.9940476190476191\n",
      "- recall 0.875\n",
      "- confusion_matrix\n",
      "[[83  0]\n",
      " [ 1  3]]\n"
     ]
    }
   ],
   "source": [
    "y_pred = fit_model.predict(X_test)\n",
    "print('f1:', metrics.f1_score(y_test, y_pred, average='macro'))\n",
    "print('- precision:', metrics.precision_score(y_test, y_pred, average='macro'))\n",
    "print('- recall', metrics.recall_score(y_test, y_pred, average='macro'))\n",
    "print('- confusion_matrix')\n",
    "print( metrics.confusion_matrix(y_test, y_pred))"
   ]
  },
  {
   "cell_type": "markdown",
   "metadata": {},
   "source": [
    "#### Final Model"
   ]
  },
  {
   "cell_type": "markdown",
   "metadata": {},
   "source": [
    "**Ada Boost**"
   ]
  },
  {
   "cell_type": "code",
   "execution_count": 134,
   "metadata": {},
   "outputs": [],
   "source": [
    "model = AdaBoostClassifier()"
   ]
  },
  {
   "cell_type": "code",
   "execution_count": 135,
   "metadata": {},
   "outputs": [],
   "source": [
    "param_grid = {\n",
    "            'base_estimator': [DecisionTreeClassifier(max_depth=1), \n",
    "                               DecisionTreeClassifier(max_depth=2),\n",
    "                               DecisionTreeClassifier(max_depth=3),\n",
    "                               DecisionTreeClassifier(max_depth=4),\n",
    "                              ],\n",
    "            'n_estimators': np.arange(1,200,2),\n",
    "            'learning_rate': [0.01, 0.1, 0.3, 0.5, 0.7, 1],\n",
    "             }"
   ]
  },
  {
   "cell_type": "code",
   "execution_count": 136,
   "metadata": {},
   "outputs": [
    {
     "data": {
      "text/plain": [
       "4"
      ]
     },
     "execution_count": 136,
     "metadata": {},
     "output_type": "execute_result"
    }
   ],
   "source": [
    "skf = StratifiedKFold(n_splits=4, shuffle=True)\n",
    "skf.get_n_splits(X.values, y.values)"
   ]
  },
  {
   "cell_type": "code",
   "execution_count": 137,
   "metadata": {},
   "outputs": [],
   "source": [
    "grid_cv = GridSearchCV(model, param_grid=param_grid, scoring ='f1', cv=skf.split(X,y))"
   ]
  },
  {
   "cell_type": "code",
   "execution_count": 138,
   "metadata": {
    "scrolled": true
   },
   "outputs": [
    {
     "data": {
      "text/plain": [
       "{'base_estimator': DecisionTreeClassifier(ccp_alpha=0.0, class_weight=None, criterion='gini',\n",
       "                        max_depth=1, max_features=None, max_leaf_nodes=None,\n",
       "                        min_impurity_decrease=0.0, min_impurity_split=None,\n",
       "                        min_samples_leaf=1, min_samples_split=2,\n",
       "                        min_weight_fraction_leaf=0.0, presort='deprecated',\n",
       "                        random_state=None, splitter='best'),\n",
       " 'learning_rate': 0.1,\n",
       " 'n_estimators': 59}"
      ]
     },
     "execution_count": 138,
     "metadata": {},
     "output_type": "execute_result"
    }
   ],
   "source": [
    "grid_cv.fit(X.values, y.values)\n",
    "grid_cv.best_params_"
   ]
  },
  {
   "cell_type": "code",
   "execution_count": 176,
   "metadata": {},
   "outputs": [],
   "source": [
    "model = AdaBoostClassifier(**grid_cv.best_params_)"
   ]
  },
  {
   "cell_type": "code",
   "execution_count": 177,
   "metadata": {},
   "outputs": [
    {
     "name": "stdout",
     "output_type": "stream",
     "text": [
      "f1: 1.0\n",
      "- precision: 1.0\n",
      "- recall 1.0\n",
      "- confusion_matrix\n",
      "[[104   0]\n",
      " [  0   4]]\n",
      "f1: 1.0\n",
      "- precision: 1.0\n",
      "- recall 1.0\n",
      "- confusion_matrix\n",
      "[[104   0]\n",
      " [  0   4]]\n",
      "f1: 1.0\n",
      "- precision: 1.0\n",
      "- recall 1.0\n",
      "- confusion_matrix\n",
      "[[103   0]\n",
      " [  0   5]]\n",
      "f1: 1.0\n",
      "- precision: 1.0\n",
      "- recall 1.0\n",
      "- confusion_matrix\n",
      "[[103   0]\n",
      " [  0   5]]\n"
     ]
    }
   ],
   "source": [
    "for train_index, test_index in skf.split(X.values, y.values):\n",
    "    X_train, X_test = X.iloc[train_index], X.iloc[test_index]\n",
    "    y_train, y_test = y.iloc[train_index], y.iloc[test_index]\n",
    "    model.fit(X_train.values, y_train.values)\n",
    "    y_pred = model.predict(X_test.values)\n",
    "    print('f1:', metrics.f1_score(y_test, y_pred, average='macro'))\n",
    "    print('- precision:', metrics.precision_score(y_test, y_pred, average='macro'))\n",
    "    print('- recall', metrics.recall_score(y_test, y_pred, average='macro'))\n",
    "    print('- confusion_matrix')\n",
    "    print( metrics.confusion_matrix(y_test, y_pred))"
   ]
  },
  {
   "cell_type": "code",
   "execution_count": 185,
   "metadata": {},
   "outputs": [],
   "source": [
    "X_train, X_test, y_train, y_test = train_test_split(X.values, y.values, test_size=test_size, stratify=y.values)"
   ]
  },
  {
   "cell_type": "code",
   "execution_count": 186,
   "metadata": {},
   "outputs": [],
   "source": [
    "fit_model = model.fit(X_train, y_train)"
   ]
  },
  {
   "cell_type": "code",
   "execution_count": 187,
   "metadata": {
    "scrolled": true
   },
   "outputs": [
    {
     "name": "stdout",
     "output_type": "stream",
     "text": [
      "f1: 1.0\n",
      "- precision: 1.0\n",
      "- recall 1.0\n",
      "- confusion_matrix\n",
      "[[83  0]\n",
      " [ 0  4]]\n"
     ]
    }
   ],
   "source": [
    "y_pred = fit_model.predict(X_test)\n",
    "print('f1:', metrics.f1_score(y_test, y_pred, average='macro'))\n",
    "print('- precision:', metrics.precision_score(y_test, y_pred, average='macro'))\n",
    "print('- recall', metrics.recall_score(y_test, y_pred, average='macro'))\n",
    "print('- confusion_matrix')\n",
    "print( metrics.confusion_matrix(y_test, y_pred))"
   ]
  },
  {
   "cell_type": "code",
   "execution_count": 188,
   "metadata": {},
   "outputs": [
    {
     "data": {
      "text/plain": [
       "AdaBoostClassifier(algorithm='SAMME.R',\n",
       "                   base_estimator=DecisionTreeClassifier(ccp_alpha=0.0,\n",
       "                                                         class_weight=None,\n",
       "                                                         criterion='gini',\n",
       "                                                         max_depth=1,\n",
       "                                                         max_features=None,\n",
       "                                                         max_leaf_nodes=None,\n",
       "                                                         min_impurity_decrease=0.0,\n",
       "                                                         min_impurity_split=None,\n",
       "                                                         min_samples_leaf=1,\n",
       "                                                         min_samples_split=2,\n",
       "                                                         min_weight_fraction_leaf=0.0,\n",
       "                                                         presort='deprecated',\n",
       "                                                         random_state=None,\n",
       "                                                         splitter='best'),\n",
       "                   learning_rate=0.1, n_estimators=59, random_state=None)"
      ]
     },
     "execution_count": 188,
     "metadata": {},
     "output_type": "execute_result"
    }
   ],
   "source": [
    "model"
   ]
  },
  {
   "cell_type": "code",
   "execution_count": 189,
   "metadata": {},
   "outputs": [],
   "source": [
    "classification_model = {'df': df,\n",
    "                         'X': X,\n",
    "                         'y': y,\n",
    "                         'model':model\n",
    "                         }"
   ]
  },
  {
   "cell_type": "code",
   "execution_count": 190,
   "metadata": {},
   "outputs": [],
   "source": [
    "import pickle\n",
    "# save model\n",
    "with open('../models/classification_model.pkl', 'wb') as f:\n",
    "    pickle.dump(classification_model, f)"
   ]
  },
  {
   "cell_type": "code",
   "execution_count": 191,
   "metadata": {},
   "outputs": [],
   "source": [
    "with open('../models/classification_model.pkl', 'rb') as f:\n",
    "    classification_model = pickle.load(f)"
   ]
  },
  {
   "cell_type": "code",
   "execution_count": 192,
   "metadata": {},
   "outputs": [
    {
     "data": {
      "text/plain": [
       "AdaBoostClassifier(algorithm='SAMME.R',\n",
       "                   base_estimator=DecisionTreeClassifier(ccp_alpha=0.0,\n",
       "                                                         class_weight=None,\n",
       "                                                         criterion='gini',\n",
       "                                                         max_depth=1,\n",
       "                                                         max_features=None,\n",
       "                                                         max_leaf_nodes=None,\n",
       "                                                         min_impurity_decrease=0.0,\n",
       "                                                         min_impurity_split=None,\n",
       "                                                         min_samples_leaf=1,\n",
       "                                                         min_samples_split=2,\n",
       "                                                         min_weight_fraction_leaf=0.0,\n",
       "                                                         presort='deprecated',\n",
       "                                                         random_state=None,\n",
       "                                                         splitter='best'),\n",
       "                   learning_rate=0.1, n_estimators=59, random_state=None)"
      ]
     },
     "execution_count": 192,
     "metadata": {},
     "output_type": "execute_result"
    }
   ],
   "source": [
    "classification_model['model']"
   ]
  },
  {
   "cell_type": "code",
   "execution_count": 193,
   "metadata": {},
   "outputs": [],
   "source": [
    "y_pred = classification_model['model'].predict(X.values)"
   ]
  },
  {
   "cell_type": "code",
   "execution_count": 194,
   "metadata": {},
   "outputs": [],
   "source": [
    "df['predict'] = y_pred"
   ]
  },
  {
   "cell_type": "code",
   "execution_count": 195,
   "metadata": {},
   "outputs": [],
   "source": [
    "y_prob = classification_model['model'].predict_proba(X.values)"
   ]
  },
  {
   "cell_type": "code",
   "execution_count": 196,
   "metadata": {},
   "outputs": [],
   "source": [
    "df['predict_prob'] = y_prob"
   ]
  },
  {
   "cell_type": "code",
   "execution_count": 197,
   "metadata": {},
   "outputs": [
    {
     "data": {
      "text/plain": [
       "Index(['n_page', 'page_height', 'page_width', 'n_block', 'block_vert',\n",
       "       'block_confidence', 'n_paragraph', 'paragraph_vert',\n",
       "       'paragraph_confidence', 'n_word', 'word_vert', 'word_confidence',\n",
       "       'text', 'symbol_search_pos', 'n_symbol_search_find', 'y', 'block_area',\n",
       "       'paragraph_area', 'word_area', 'block_weigh', 'paragraph_weigh',\n",
       "       'word_weigh', 'rel_word_block_area', 'rel_word_parag_area',\n",
       "       'rel_parag_block_area', 'text_join', 'prev_symbol', 'next_symbol',\n",
       "       'text_type', 'prev_text_type', 'next_text_type', 'text_len',\n",
       "       'is_a_symbol', 'text_numbers', 'number_type', 'number', 'predict',\n",
       "       'predict_prob'],\n",
       "      dtype='object')"
      ]
     },
     "execution_count": 197,
     "metadata": {},
     "output_type": "execute_result"
    }
   ],
   "source": [
    "df.columns"
   ]
  },
  {
   "cell_type": "code",
   "execution_count": 198,
   "metadata": {},
   "outputs": [
    {
     "data": {
      "text/html": [
       "<div>\n",
       "<style scoped>\n",
       "    .dataframe tbody tr th:only-of-type {\n",
       "        vertical-align: middle;\n",
       "    }\n",
       "\n",
       "    .dataframe tbody tr th {\n",
       "        vertical-align: top;\n",
       "    }\n",
       "\n",
       "    .dataframe thead th {\n",
       "        text-align: right;\n",
       "    }\n",
       "</style>\n",
       "<table border=\"1\" class=\"dataframe\">\n",
       "  <thead>\n",
       "    <tr style=\"text-align: right;\">\n",
       "      <th></th>\n",
       "      <th>text_join</th>\n",
       "      <th>number</th>\n",
       "      <th>predict_prob</th>\n",
       "      <th>predict</th>\n",
       "    </tr>\n",
       "  </thead>\n",
       "  <tbody>\n",
       "    <tr>\n",
       "      <th>22</th>\n",
       "      <td>87.50</td>\n",
       "      <td>87.5</td>\n",
       "      <td>0.000084</td>\n",
       "      <td>1</td>\n",
       "    </tr>\n",
       "    <tr>\n",
       "      <th>54</th>\n",
       "      <td>87.50</td>\n",
       "      <td>87.5</td>\n",
       "      <td>0.000084</td>\n",
       "      <td>1</td>\n",
       "    </tr>\n",
       "    <tr>\n",
       "      <th>74</th>\n",
       "      <td>152</td>\n",
       "      <td>152.0</td>\n",
       "      <td>0.000084</td>\n",
       "      <td>1</td>\n",
       "    </tr>\n",
       "    <tr>\n",
       "      <th>100</th>\n",
       "      <td>122</td>\n",
       "      <td>122.0</td>\n",
       "      <td>0.000084</td>\n",
       "      <td>1</td>\n",
       "    </tr>\n",
       "    <tr>\n",
       "      <th>112</th>\n",
       "      <td>122</td>\n",
       "      <td>122.0</td>\n",
       "      <td>0.000084</td>\n",
       "      <td>1</td>\n",
       "    </tr>\n",
       "    <tr>\n",
       "      <th>123</th>\n",
       "      <td>87</td>\n",
       "      <td>87.0</td>\n",
       "      <td>0.000084</td>\n",
       "      <td>1</td>\n",
       "    </tr>\n",
       "    <tr>\n",
       "      <th>146</th>\n",
       "      <td>87</td>\n",
       "      <td>87.0</td>\n",
       "      <td>0.000084</td>\n",
       "      <td>1</td>\n",
       "    </tr>\n",
       "    <tr>\n",
       "      <th>172</th>\n",
       "      <td>87</td>\n",
       "      <td>87.0</td>\n",
       "      <td>0.000084</td>\n",
       "      <td>1</td>\n",
       "    </tr>\n",
       "    <tr>\n",
       "      <th>201</th>\n",
       "      <td>152</td>\n",
       "      <td>152.0</td>\n",
       "      <td>0.000084</td>\n",
       "      <td>1</td>\n",
       "    </tr>\n",
       "    <tr>\n",
       "      <th>230</th>\n",
       "      <td>152</td>\n",
       "      <td>152.0</td>\n",
       "      <td>0.000084</td>\n",
       "      <td>1</td>\n",
       "    </tr>\n",
       "    <tr>\n",
       "      <th>268</th>\n",
       "      <td>87.50</td>\n",
       "      <td>87.5</td>\n",
       "      <td>0.000084</td>\n",
       "      <td>1</td>\n",
       "    </tr>\n",
       "    <tr>\n",
       "      <th>297</th>\n",
       "      <td>87.50</td>\n",
       "      <td>87.5</td>\n",
       "      <td>0.000084</td>\n",
       "      <td>1</td>\n",
       "    </tr>\n",
       "    <tr>\n",
       "      <th>314</th>\n",
       "      <td>152</td>\n",
       "      <td>152.0</td>\n",
       "      <td>0.000084</td>\n",
       "      <td>1</td>\n",
       "    </tr>\n",
       "    <tr>\n",
       "      <th>341</th>\n",
       "      <td>87</td>\n",
       "      <td>87.0</td>\n",
       "      <td>0.000084</td>\n",
       "      <td>1</td>\n",
       "    </tr>\n",
       "    <tr>\n",
       "      <th>363</th>\n",
       "      <td>122</td>\n",
       "      <td>122.0</td>\n",
       "      <td>0.000084</td>\n",
       "      <td>1</td>\n",
       "    </tr>\n",
       "    <tr>\n",
       "      <th>377</th>\n",
       "      <td>122</td>\n",
       "      <td>122.0</td>\n",
       "      <td>0.000084</td>\n",
       "      <td>1</td>\n",
       "    </tr>\n",
       "    <tr>\n",
       "      <th>397</th>\n",
       "      <td>143</td>\n",
       "      <td>143.0</td>\n",
       "      <td>0.000084</td>\n",
       "      <td>1</td>\n",
       "    </tr>\n",
       "    <tr>\n",
       "      <th>419</th>\n",
       "      <td>114</td>\n",
       "      <td>114.0</td>\n",
       "      <td>0.000084</td>\n",
       "      <td>1</td>\n",
       "    </tr>\n",
       "  </tbody>\n",
       "</table>\n",
       "</div>"
      ],
      "text/plain": [
       "    text_join  number  predict_prob  predict\n",
       "22      87.50    87.5      0.000084        1\n",
       "54      87.50    87.5      0.000084        1\n",
       "74        152   152.0      0.000084        1\n",
       "100       122   122.0      0.000084        1\n",
       "112       122   122.0      0.000084        1\n",
       "123        87    87.0      0.000084        1\n",
       "146        87    87.0      0.000084        1\n",
       "172        87    87.0      0.000084        1\n",
       "201       152   152.0      0.000084        1\n",
       "230       152   152.0      0.000084        1\n",
       "268     87.50    87.5      0.000084        1\n",
       "297     87.50    87.5      0.000084        1\n",
       "314       152   152.0      0.000084        1\n",
       "341        87    87.0      0.000084        1\n",
       "363       122   122.0      0.000084        1\n",
       "377       122   122.0      0.000084        1\n",
       "397       143   143.0      0.000084        1\n",
       "419       114   114.0      0.000084        1"
      ]
     },
     "execution_count": 198,
     "metadata": {},
     "output_type": "execute_result"
    }
   ],
   "source": [
    "df[df['predict']==1][['text_join', 'number', 'predict_prob', 'predict']]"
   ]
  },
  {
   "cell_type": "code",
   "execution_count": 199,
   "metadata": {},
   "outputs": [
    {
     "data": {
      "text/plain": [
       "count    432.000000\n",
       "mean       0.958123\n",
       "std        0.200046\n",
       "min        0.000084\n",
       "25%        0.999999\n",
       "50%        1.000000\n",
       "75%        1.000000\n",
       "max        1.000000\n",
       "Name: predict_prob, dtype: float64"
      ]
     },
     "execution_count": 199,
     "metadata": {},
     "output_type": "execute_result"
    }
   ],
   "source": [
    "df['predict_prob'].describe()"
   ]
  },
  {
   "cell_type": "code",
   "execution_count": 203,
   "metadata": {},
   "outputs": [
    {
     "data": {
      "text/plain": [
       "(18, 38)"
      ]
     },
     "execution_count": 203,
     "metadata": {},
     "output_type": "execute_result"
    }
   ],
   "source": [
    "df[df['predict_prob']==df['predict_prob'].min()].shape"
   ]
  }
 ],
 "metadata": {
  "hide_input": false,
  "kernelspec": {
   "display_name": "Python 3",
   "language": "python",
   "name": "python3"
  },
  "language_info": {
   "codemirror_mode": {
    "name": "ipython",
    "version": 3
   },
   "file_extension": ".py",
   "mimetype": "text/x-python",
   "name": "python",
   "nbconvert_exporter": "python",
   "pygments_lexer": "ipython3",
   "version": "3.7.6"
  }
 },
 "nbformat": 4,
 "nbformat_minor": 4
}
