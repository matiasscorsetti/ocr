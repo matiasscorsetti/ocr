{
 "cells": [
  {
   "cell_type": "code",
   "execution_count": 1,
   "metadata": {},
   "outputs": [],
   "source": [
    "import pandas as pd\n",
    "import numpy as np"
   ]
  },
  {
   "cell_type": "code",
   "execution_count": 2,
   "metadata": {},
   "outputs": [],
   "source": [
    "from sklearn import metrics\n",
    "from sklearn.model_selection import train_test_split, GridSearchCV, StratifiedKFold\n",
    "from sklearn.ensemble import AdaBoostClassifier, RandomForestClassifier, GradientBoostingClassifier\n",
    "from sklearn.tree import DecisionTreeClassifier\n",
    "from xgboost import XGBClassifier"
   ]
  },
  {
   "cell_type": "code",
   "execution_count": 3,
   "metadata": {},
   "outputs": [
    {
     "name": "stderr",
     "output_type": "stream",
     "text": [
      "C:\\Users\\scors\\.conda\\envs\\raxar\\lib\\site-packages\\sklearn\\utils\\deprecation.py:144: FutureWarning: The sklearn.metrics.classification module is  deprecated in version 0.22 and will be removed in version 0.24. The corresponding classes / functions should instead be imported from sklearn.metrics. Anything that cannot be imported from sklearn.metrics is now part of the private API.\n",
      "  warnings.warn(message, FutureWarning)\n"
     ]
    }
   ],
   "source": [
    "from yellowbrick.classifier import ROCAUC\n",
    "from yellowbrick.classifier import confusion_matrix\n",
    "from yellowbrick.classifier import ClassPredictionError\n",
    "from yellowbrick.classifier import ClassificationReport"
   ]
  },
  {
   "cell_type": "code",
   "execution_count": 4,
   "metadata": {},
   "outputs": [],
   "source": [
    "def plot(model, classes, X_train, y_train, X_test, y_test):\n",
    "    \n",
    "    # Instantiate the classification model and visualizer\n",
    "    visualizer = ClassPredictionError(\n",
    "        model, classes=classes\n",
    "    )\n",
    "    # Fit the training data to the visualizer\n",
    "    visualizer.fit(X_train, y_train)\n",
    "    # Evaluate the model on the test data\n",
    "    visualizer.score(X_test, y_test)\n",
    "    # Draw visualization\n",
    "    visualizer.show()\n",
    "    \n",
    "    # Instantiate the visualizer with the classification model\n",
    "    confusion_matrix(\n",
    "        model,\n",
    "        X_train, y_train, X_test, y_test,\n",
    "        classes=classes,\n",
    "    )\n",
    "    \n",
    "    # Instantiate the visualizer with the classification model\n",
    "    visualizer = ROCAUC(model, classes=classes)\n",
    "    visualizer.fit(X_train, y_train)        # Fit the training data to the visualizer\n",
    "    visualizer.score(X_test, y_test)        # Evaluate the model on the test data\n",
    "    visualizer.show()                       # Finalize and show the figure\n",
    "    \n",
    "    visualizer = ClassificationReport(model, classes=classes, support=True)\n",
    "\n",
    "    visualizer.fit(X_train, y_train)        # Fit the visualizer and the model\n",
    "    visualizer.score(X_test, y_test)        # Evaluate the model on the test data\n",
    "    visualizer.show()                       # Finalize and show the figure"
   ]
  },
  {
   "cell_type": "code",
   "execution_count": 5,
   "metadata": {},
   "outputs": [],
   "source": [
    "df = pd.read_csv('../data/processed/data.csv', index_col=[0, 1])"
   ]
  },
  {
   "cell_type": "code",
   "execution_count": 6,
   "metadata": {},
   "outputs": [
    {
     "data": {
      "text/plain": [
       "(432, 32)"
      ]
     },
     "execution_count": 6,
     "metadata": {},
     "output_type": "execute_result"
    }
   ],
   "source": [
    "df.shape"
   ]
  },
  {
   "cell_type": "code",
   "execution_count": 7,
   "metadata": {},
   "outputs": [],
   "source": [
    "features = ['page_height',\n",
    "            'page_width',\n",
    "            'block_confidence',\n",
    "            'paragraph_confidence',\n",
    "            'word_confidence',\n",
    "            'block_area',\n",
    "            'paragraph_area',\n",
    "            'word_area',\n",
    "            'prev_symbol',\n",
    "            'text_type',\n",
    "            'prev_text_type',\n",
    "            'next_text_type',\n",
    "            'rel_word_block_area',\n",
    "            'rel_word_parag_area',\n",
    "            'rel_parag_block_area',\n",
    "            'text_len',\n",
    "            'number_type',\n",
    "           ]"
   ]
  },
  {
   "cell_type": "code",
   "execution_count": 8,
   "metadata": {},
   "outputs": [],
   "source": [
    "X = df[features].copy()"
   ]
  },
  {
   "cell_type": "code",
   "execution_count": 9,
   "metadata": {},
   "outputs": [
    {
     "data": {
      "text/html": [
       "<div>\n",
       "<style scoped>\n",
       "    .dataframe tbody tr th:only-of-type {\n",
       "        vertical-align: middle;\n",
       "    }\n",
       "\n",
       "    .dataframe tbody tr th {\n",
       "        vertical-align: top;\n",
       "    }\n",
       "\n",
       "    .dataframe thead tr th {\n",
       "        text-align: left;\n",
       "    }\n",
       "</style>\n",
       "<table border=\"1\" class=\"dataframe\">\n",
       "  <thead>\n",
       "    <tr>\n",
       "      <th>file</th>\n",
       "      <th>17.jpg</th>\n",
       "      <th>14.jpg</th>\n",
       "      <th>8.jpg</th>\n",
       "      <th>13.jpg</th>\n",
       "      <th>16.jpg</th>\n",
       "      <th>10.jpg</th>\n",
       "      <th>5.jpg</th>\n",
       "    </tr>\n",
       "    <tr>\n",
       "      <th>index</th>\n",
       "      <th>0</th>\n",
       "      <th>17</th>\n",
       "      <th>5</th>\n",
       "      <th>8</th>\n",
       "      <th>10</th>\n",
       "      <th>10</th>\n",
       "      <th>2</th>\n",
       "    </tr>\n",
       "  </thead>\n",
       "  <tbody>\n",
       "    <tr>\n",
       "      <th>page_height</th>\n",
       "      <td>4032.000000</td>\n",
       "      <td>581.000000</td>\n",
       "      <td>960.000000</td>\n",
       "      <td>581.000000</td>\n",
       "      <td>581.000000</td>\n",
       "      <td>719.000000</td>\n",
       "      <td>719.000000</td>\n",
       "    </tr>\n",
       "    <tr>\n",
       "      <th>page_width</th>\n",
       "      <td>3024.000000</td>\n",
       "      <td>1032.000000</td>\n",
       "      <td>1280.000000</td>\n",
       "      <td>1032.000000</td>\n",
       "      <td>1032.000000</td>\n",
       "      <td>1280.000000</td>\n",
       "      <td>1280.000000</td>\n",
       "    </tr>\n",
       "    <tr>\n",
       "      <th>block_confidence</th>\n",
       "      <td>0.960000</td>\n",
       "      <td>0.960000</td>\n",
       "      <td>0.930000</td>\n",
       "      <td>0.460000</td>\n",
       "      <td>0.900000</td>\n",
       "      <td>0.910000</td>\n",
       "      <td>0.800000</td>\n",
       "    </tr>\n",
       "    <tr>\n",
       "      <th>paragraph_confidence</th>\n",
       "      <td>0.960000</td>\n",
       "      <td>0.930000</td>\n",
       "      <td>0.930000</td>\n",
       "      <td>0.460000</td>\n",
       "      <td>0.940000</td>\n",
       "      <td>0.910000</td>\n",
       "      <td>0.800000</td>\n",
       "    </tr>\n",
       "    <tr>\n",
       "      <th>word_confidence</th>\n",
       "      <td>0.990000</td>\n",
       "      <td>0.950000</td>\n",
       "      <td>0.970000</td>\n",
       "      <td>0.990000</td>\n",
       "      <td>0.990000</td>\n",
       "      <td>0.980000</td>\n",
       "      <td>0.740000</td>\n",
       "    </tr>\n",
       "    <tr>\n",
       "      <th>block_area</th>\n",
       "      <td>68058.000000</td>\n",
       "      <td>8232.000000</td>\n",
       "      <td>31484.000000</td>\n",
       "      <td>27581.000000</td>\n",
       "      <td>4054.000000</td>\n",
       "      <td>10445.500000</td>\n",
       "      <td>2875.500000</td>\n",
       "    </tr>\n",
       "    <tr>\n",
       "      <th>paragraph_area</th>\n",
       "      <td>68058.000000</td>\n",
       "      <td>2856.000000</td>\n",
       "      <td>31484.000000</td>\n",
       "      <td>27581.000000</td>\n",
       "      <td>2244.000000</td>\n",
       "      <td>10445.500000</td>\n",
       "      <td>2875.500000</td>\n",
       "    </tr>\n",
       "    <tr>\n",
       "      <th>word_area</th>\n",
       "      <td>12491.000000</td>\n",
       "      <td>816.000000</td>\n",
       "      <td>2652.000000</td>\n",
       "      <td>1420.000000</td>\n",
       "      <td>1003.000000</td>\n",
       "      <td>8096.000000</td>\n",
       "      <td>1593.000000</td>\n",
       "    </tr>\n",
       "    <tr>\n",
       "      <th>prev_symbol</th>\n",
       "      <td>0.000000</td>\n",
       "      <td>0.000000</td>\n",
       "      <td>0.000000</td>\n",
       "      <td>0.000000</td>\n",
       "      <td>0.000000</td>\n",
       "      <td>1.000000</td>\n",
       "      <td>0.000000</td>\n",
       "    </tr>\n",
       "    <tr>\n",
       "      <th>text_type</th>\n",
       "      <td>1.000000</td>\n",
       "      <td>0.000000</td>\n",
       "      <td>0.000000</td>\n",
       "      <td>1.000000</td>\n",
       "      <td>1.000000</td>\n",
       "      <td>0.000000</td>\n",
       "      <td>1.000000</td>\n",
       "    </tr>\n",
       "    <tr>\n",
       "      <th>prev_text_type</th>\n",
       "      <td>1.000000</td>\n",
       "      <td>0.000000</td>\n",
       "      <td>1.000000</td>\n",
       "      <td>1.000000</td>\n",
       "      <td>1.000000</td>\n",
       "      <td>1.000000</td>\n",
       "      <td>1.000000</td>\n",
       "    </tr>\n",
       "    <tr>\n",
       "      <th>next_text_type</th>\n",
       "      <td>1.000000</td>\n",
       "      <td>0.000000</td>\n",
       "      <td>1.000000</td>\n",
       "      <td>0.000000</td>\n",
       "      <td>1.000000</td>\n",
       "      <td>1.000000</td>\n",
       "      <td>1.000000</td>\n",
       "    </tr>\n",
       "    <tr>\n",
       "      <th>rel_word_block_area</th>\n",
       "      <td>0.183535</td>\n",
       "      <td>0.099125</td>\n",
       "      <td>0.084233</td>\n",
       "      <td>0.051485</td>\n",
       "      <td>0.247410</td>\n",
       "      <td>0.775071</td>\n",
       "      <td>0.553991</td>\n",
       "    </tr>\n",
       "    <tr>\n",
       "      <th>rel_word_parag_area</th>\n",
       "      <td>0.183535</td>\n",
       "      <td>0.285714</td>\n",
       "      <td>0.084233</td>\n",
       "      <td>0.051485</td>\n",
       "      <td>0.446970</td>\n",
       "      <td>0.775071</td>\n",
       "      <td>0.553991</td>\n",
       "    </tr>\n",
       "    <tr>\n",
       "      <th>rel_parag_block_area</th>\n",
       "      <td>1.000000</td>\n",
       "      <td>0.346939</td>\n",
       "      <td>1.000000</td>\n",
       "      <td>1.000000</td>\n",
       "      <td>0.553527</td>\n",
       "      <td>1.000000</td>\n",
       "      <td>1.000000</td>\n",
       "    </tr>\n",
       "    <tr>\n",
       "      <th>text_len</th>\n",
       "      <td>7.000000</td>\n",
       "      <td>5.000000</td>\n",
       "      <td>4.000000</td>\n",
       "      <td>1.000000</td>\n",
       "      <td>6.000000</td>\n",
       "      <td>3.000000</td>\n",
       "      <td>7.000000</td>\n",
       "    </tr>\n",
       "    <tr>\n",
       "      <th>number_type</th>\n",
       "      <td>0.000000</td>\n",
       "      <td>1.000000</td>\n",
       "      <td>1.000000</td>\n",
       "      <td>0.000000</td>\n",
       "      <td>0.000000</td>\n",
       "      <td>1.000000</td>\n",
       "      <td>0.000000</td>\n",
       "    </tr>\n",
       "  </tbody>\n",
       "</table>\n",
       "</div>"
      ],
      "text/plain": [
       "file                        17.jpg       14.jpg         8.jpg        13.jpg  \\\n",
       "index                           0            17            5             8    \n",
       "page_height            4032.000000   581.000000    960.000000    581.000000   \n",
       "page_width             3024.000000  1032.000000   1280.000000   1032.000000   \n",
       "block_confidence          0.960000     0.960000      0.930000      0.460000   \n",
       "paragraph_confidence      0.960000     0.930000      0.930000      0.460000   \n",
       "word_confidence           0.990000     0.950000      0.970000      0.990000   \n",
       "block_area            68058.000000  8232.000000  31484.000000  27581.000000   \n",
       "paragraph_area        68058.000000  2856.000000  31484.000000  27581.000000   \n",
       "word_area             12491.000000   816.000000   2652.000000   1420.000000   \n",
       "prev_symbol               0.000000     0.000000      0.000000      0.000000   \n",
       "text_type                 1.000000     0.000000      0.000000      1.000000   \n",
       "prev_text_type            1.000000     0.000000      1.000000      1.000000   \n",
       "next_text_type            1.000000     0.000000      1.000000      0.000000   \n",
       "rel_word_block_area       0.183535     0.099125      0.084233      0.051485   \n",
       "rel_word_parag_area       0.183535     0.285714      0.084233      0.051485   \n",
       "rel_parag_block_area      1.000000     0.346939      1.000000      1.000000   \n",
       "text_len                  7.000000     5.000000      4.000000      1.000000   \n",
       "number_type               0.000000     1.000000      1.000000      0.000000   \n",
       "\n",
       "file                       16.jpg        10.jpg        5.jpg  \n",
       "index                          10            10           2   \n",
       "page_height            581.000000    719.000000   719.000000  \n",
       "page_width            1032.000000   1280.000000  1280.000000  \n",
       "block_confidence         0.900000      0.910000     0.800000  \n",
       "paragraph_confidence     0.940000      0.910000     0.800000  \n",
       "word_confidence          0.990000      0.980000     0.740000  \n",
       "block_area            4054.000000  10445.500000  2875.500000  \n",
       "paragraph_area        2244.000000  10445.500000  2875.500000  \n",
       "word_area             1003.000000   8096.000000  1593.000000  \n",
       "prev_symbol              0.000000      1.000000     0.000000  \n",
       "text_type                1.000000      0.000000     1.000000  \n",
       "prev_text_type           1.000000      1.000000     1.000000  \n",
       "next_text_type           1.000000      1.000000     1.000000  \n",
       "rel_word_block_area      0.247410      0.775071     0.553991  \n",
       "rel_word_parag_area      0.446970      0.775071     0.553991  \n",
       "rel_parag_block_area     0.553527      1.000000     1.000000  \n",
       "text_len                 6.000000      3.000000     7.000000  \n",
       "number_type              0.000000      1.000000     0.000000  "
      ]
     },
     "execution_count": 9,
     "metadata": {},
     "output_type": "execute_result"
    }
   ],
   "source": [
    "X.sample(7).T"
   ]
  },
  {
   "cell_type": "code",
   "execution_count": 10,
   "metadata": {},
   "outputs": [],
   "source": [
    "y = df['y'].copy()"
   ]
  },
  {
   "cell_type": "code",
   "execution_count": 11,
   "metadata": {},
   "outputs": [
    {
     "data": {
      "text/plain": [
       "file    index\n",
       "8.jpg   20       0\n",
       "3.jpg   17       0\n",
       "12.jpg  19       1\n",
       "1.jpg   21       0\n",
       "7.jpg   17       0\n",
       "        23       0\n",
       "9.jpg   6        0\n",
       "Name: y, dtype: int64"
      ]
     },
     "execution_count": 11,
     "metadata": {},
     "output_type": "execute_result"
    }
   ],
   "source": [
    "y.sample(7)"
   ]
  },
  {
   "cell_type": "code",
   "execution_count": 12,
   "metadata": {},
   "outputs": [
    {
     "data": {
      "text/plain": [
       "page_height             0\n",
       "page_width              0\n",
       "block_confidence        0\n",
       "paragraph_confidence    0\n",
       "word_confidence         0\n",
       "block_area              0\n",
       "paragraph_area          0\n",
       "word_area               0\n",
       "prev_symbol             0\n",
       "text_type               0\n",
       "prev_text_type          0\n",
       "next_text_type          0\n",
       "rel_word_block_area     0\n",
       "rel_word_parag_area     0\n",
       "rel_parag_block_area    0\n",
       "text_len                0\n",
       "number_type             0\n",
       "dtype: int64"
      ]
     },
     "execution_count": 12,
     "metadata": {},
     "output_type": "execute_result"
    }
   ],
   "source": [
    "X.isna().sum()"
   ]
  },
  {
   "cell_type": "code",
   "execution_count": 13,
   "metadata": {},
   "outputs": [],
   "source": [
    "test_size = 0.2"
   ]
  },
  {
   "cell_type": "code",
   "execution_count": 14,
   "metadata": {},
   "outputs": [],
   "source": [
    "#Create the train and test data\n",
    "X_train, X_test, y_train, y_test = train_test_split(X, y, test_size=test_size, stratify=y)"
   ]
  },
  {
   "cell_type": "code",
   "execution_count": 15,
   "metadata": {},
   "outputs": [],
   "source": [
    "classes = ['not_price', 'price']"
   ]
  },
  {
   "cell_type": "code",
   "execution_count": 16,
   "metadata": {},
   "outputs": [],
   "source": [
    "model = AdaBoostClassifier()"
   ]
  },
  {
   "cell_type": "code",
   "execution_count": 17,
   "metadata": {
    "scrolled": false
   },
   "outputs": [
    {
     "name": "stderr",
     "output_type": "stream",
     "text": [
      "C:\\Users\\scors\\.conda\\envs\\raxar\\lib\\site-packages\\sklearn\\base.py:197: FutureWarning: From version 0.24, get_params will raise an AttributeError if a parameter cannot be retrieved as an instance attribute. Previously it would return None.\n",
      "  FutureWarning)\n"
     ]
    },
    {
     "data": {
      "image/png": "[encoded data removed]",
      "text/plain": [
       "<Figure size 576x396 with 1 Axes>"
      ]
     },
     "metadata": {},
     "output_type": "display_data"
    },
    {
     "name": "stderr",
     "output_type": "stream",
     "text": [
      "C:\\Users\\scors\\.conda\\envs\\raxar\\lib\\site-packages\\sklearn\\base.py:197: FutureWarning: From version 0.24, get_params will raise an AttributeError if a parameter cannot be retrieved as an instance attribute. Previously it would return None.\n",
      "  FutureWarning)\n"
     ]
    },
    {
     "data": {
      "image/png": "[encoded data removed]",
      "text/plain": [
       "<Figure size 576x396 with 1 Axes>"
      ]
     },
     "metadata": {},
     "output_type": "display_data"
    },
    {
     "name": "stderr",
     "output_type": "stream",
     "text": [
      "C:\\Users\\scors\\.conda\\envs\\raxar\\lib\\site-packages\\sklearn\\base.py:197: FutureWarning: From version 0.24, get_params will raise an AttributeError if a parameter cannot be retrieved as an instance attribute. Previously it would return None.\n",
      "  FutureWarning)\n"
     ]
    },
    {
     "data": {
      "image/png": "[encoded data removed]",
      "text/plain": [
       "<Figure size 576x396 with 1 Axes>"
      ]
     },
     "metadata": {},
     "output_type": "display_data"
    },
    {
     "name": "stderr",
     "output_type": "stream",
     "text": [
      "C:\\Users\\scors\\.conda\\envs\\raxar\\lib\\site-packages\\sklearn\\base.py:197: FutureWarning: From version 0.24, get_params will raise an AttributeError if a parameter cannot be retrieved as an instance attribute. Previously it would return None.\n",
      "  FutureWarning)\n"
     ]
    },
    {
     "data": {
      "image/png": "[encoded data removed]",
      "text/plain": [
       "<Figure size 576x396 with 2 Axes>"
      ]
     },
     "metadata": {},
     "output_type": "display_data"
    }
   ],
   "source": [
    "plot(model, classes, X_train, y_train, X_test, y_test)"
   ]
  },
  {
   "cell_type": "code",
   "execution_count": 18,
   "metadata": {},
   "outputs": [],
   "source": [
    "model = RandomForestClassifier()"
   ]
  },
  {
   "cell_type": "code",
   "execution_count": 19,
   "metadata": {
    "scrolled": false
   },
   "outputs": [
    {
     "name": "stderr",
     "output_type": "stream",
     "text": [
      "C:\\Users\\scors\\.conda\\envs\\raxar\\lib\\site-packages\\sklearn\\base.py:197: FutureWarning: From version 0.24, get_params will raise an AttributeError if a parameter cannot be retrieved as an instance attribute. Previously it would return None.\n",
      "  FutureWarning)\n"
     ]
    },
    {
     "data": {
      "image/png": "[encoded data removed]",
      "text/plain": [
       "<Figure size 576x396 with 1 Axes>"
      ]
     },
     "metadata": {},
     "output_type": "display_data"
    },
    {
     "name": "stderr",
     "output_type": "stream",
     "text": [
      "C:\\Users\\scors\\.conda\\envs\\raxar\\lib\\site-packages\\sklearn\\base.py:197: FutureWarning: From version 0.24, get_params will raise an AttributeError if a parameter cannot be retrieved as an instance attribute. Previously it would return None.\n",
      "  FutureWarning)\n"
     ]
    },
    {
     "data": {
      "image/png": "[encoded data removed]",
      "text/plain": [
       "<Figure size 576x396 with 1 Axes>"
      ]
     },
     "metadata": {},
     "output_type": "display_data"
    },
    {
     "name": "stderr",
     "output_type": "stream",
     "text": [
      "C:\\Users\\scors\\.conda\\envs\\raxar\\lib\\site-packages\\sklearn\\base.py:197: FutureWarning: From version 0.24, get_params will raise an AttributeError if a parameter cannot be retrieved as an instance attribute. Previously it would return None.\n",
      "  FutureWarning)\n"
     ]
    },
    {
     "data": {
      "image/png": "[encoded data removed]",
      "text/plain": [
       "<Figure size 576x396 with 1 Axes>"
      ]
     },
     "metadata": {},
     "output_type": "display_data"
    },
    {
     "name": "stderr",
     "output_type": "stream",
     "text": [
      "C:\\Users\\scors\\.conda\\envs\\raxar\\lib\\site-packages\\sklearn\\base.py:197: FutureWarning: From version 0.24, get_params will raise an AttributeError if a parameter cannot be retrieved as an instance attribute. Previously it would return None.\n",
      "  FutureWarning)\n"
     ]
    },
    {
     "data": {
      "image/png": "[encoded data removed]",
      "text/plain": [
       "<Figure size 576x396 with 2 Axes>"
      ]
     },
     "metadata": {},
     "output_type": "display_data"
    }
   ],
   "source": [
    "plot(model, classes, X_train, y_train, X_test, y_test)"
   ]
  },
  {
   "cell_type": "code",
   "execution_count": 20,
   "metadata": {},
   "outputs": [],
   "source": [
    "model = GradientBoostingClassifier()"
   ]
  },
  {
   "cell_type": "code",
   "execution_count": 21,
   "metadata": {
    "scrolled": false
   },
   "outputs": [
    {
     "name": "stderr",
     "output_type": "stream",
     "text": [
      "C:\\Users\\scors\\.conda\\envs\\raxar\\lib\\site-packages\\sklearn\\base.py:197: FutureWarning: From version 0.24, get_params will raise an AttributeError if a parameter cannot be retrieved as an instance attribute. Previously it would return None.\n",
      "  FutureWarning)\n"
     ]
    },
    {
     "data": {
      "image/png": "[encoded data removed]",
      "text/plain": [
       "<Figure size 576x396 with 1 Axes>"
      ]
     },
     "metadata": {},
     "output_type": "display_data"
    },
    {
     "name": "stderr",
     "output_type": "stream",
     "text": [
      "C:\\Users\\scors\\.conda\\envs\\raxar\\lib\\site-packages\\sklearn\\base.py:197: FutureWarning: From version 0.24, get_params will raise an AttributeError if a parameter cannot be retrieved as an instance attribute. Previously it would return None.\n",
      "  FutureWarning)\n"
     ]
    },
    {
     "data": {
      "image/png": "[encoded data removed]",
      "text/plain": [
       "<Figure size 576x396 with 1 Axes>"
      ]
     },
     "metadata": {},
     "output_type": "display_data"
    },
    {
     "name": "stderr",
     "output_type": "stream",
     "text": [
      "C:\\Users\\scors\\.conda\\envs\\raxar\\lib\\site-packages\\sklearn\\base.py:197: FutureWarning: From version 0.24, get_params will raise an AttributeError if a parameter cannot be retrieved as an instance attribute. Previously it would return None.\n",
      "  FutureWarning)\n"
     ]
    },
    {
     "data": {
      "image/png": "[encoded data removed]",
      "text/plain": [
       "<Figure size 576x396 with 1 Axes>"
      ]
     },
     "metadata": {},
     "output_type": "display_data"
    },
    {
     "name": "stderr",
     "output_type": "stream",
     "text": [
      "C:\\Users\\scors\\.conda\\envs\\raxar\\lib\\site-packages\\sklearn\\base.py:197: FutureWarning: From version 0.24, get_params will raise an AttributeError if a parameter cannot be retrieved as an instance attribute. Previously it would return None.\n",
      "  FutureWarning)\n"
     ]
    },
    {
     "data": {
      "image/png": "[encoded data removed]",
      "text/plain": [
       "<Figure size 576x396 with 2 Axes>"
      ]
     },
     "metadata": {},
     "output_type": "display_data"
    }
   ],
   "source": [
    "plot(model, classes, X_train, y_train, X_test, y_test)"
   ]
  },
  {
   "cell_type": "code",
   "execution_count": 22,
   "metadata": {},
   "outputs": [],
   "source": [
    "model = XGBClassifier()"
   ]
  },
  {
   "cell_type": "code",
   "execution_count": 23,
   "metadata": {},
   "outputs": [
    {
     "name": "stdout",
     "output_type": "stream",
     "text": [
      "f1: 1.0\n",
      "- precision: 1.0\n",
      "- recall 1.0\n",
      "- confusion_matrix\n",
      "[[83  0]\n",
      " [ 0  4]]\n"
     ]
    }
   ],
   "source": [
    "model.fit(X_train.values, y_train.values)\n",
    "y_pred = model.predict(X_test.values)\n",
    "print('f1:', metrics.f1_score(y_test, y_pred, average='macro'))\n",
    "print('- precision:', metrics.precision_score(y_test, y_pred, average='macro'))\n",
    "print('- recall', metrics.recall_score(y_test, y_pred, average='macro'))\n",
    "print('- confusion_matrix')\n",
    "print( metrics.confusion_matrix(y_test, y_pred))"
   ]
  },
  {
   "cell_type": "code",
   "execution_count": 24,
   "metadata": {},
   "outputs": [
    {
     "data": {
      "text/plain": [
       "4"
      ]
     },
     "execution_count": 24,
     "metadata": {},
     "output_type": "execute_result"
    }
   ],
   "source": [
    "skf = StratifiedKFold(n_splits=4)\n",
    "skf.get_n_splits(X.values, y.values)"
   ]
  },
  {
   "cell_type": "markdown",
   "metadata": {},
   "source": [
    "AdaBoost"
   ]
  },
  {
   "cell_type": "code",
   "execution_count": 25,
   "metadata": {},
   "outputs": [],
   "source": [
    "model = AdaBoostClassifier()"
   ]
  },
  {
   "cell_type": "code",
   "execution_count": 26,
   "metadata": {},
   "outputs": [
    {
     "name": "stdout",
     "output_type": "stream",
     "text": [
      "f1: 0.9420289855072463\n",
      "- confusion_matrix\n",
      "[[103   1]\n",
      " [  0   4]]\n",
      "f1: 0.8285714285714285\n",
      "- confusion_matrix\n",
      "[[104   0]\n",
      " [  2   2]]\n",
      "f1: 1.0\n",
      "- confusion_matrix\n",
      "[[103   0]\n",
      " [  0   5]]\n",
      "f1: 0.7575757575757576\n",
      "- confusion_matrix\n",
      "[[95  8]\n",
      " [ 0  5]]\n"
     ]
    }
   ],
   "source": [
    "for train_index, test_index in skf.split(X.values, y.values):\n",
    "    X_train, X_test = X.iloc[train_index], X.iloc[test_index]\n",
    "    y_train, y_test = y.iloc[train_index], y.iloc[test_index]\n",
    "    model.fit(X_train.values, y_train.values)\n",
    "    y_pred = model.predict(X_test.values)\n",
    "    print('f1:', metrics.f1_score(y_test, y_pred, average='macro'))\n",
    "    print('- confusion_matrix')\n",
    "    print( metrics.confusion_matrix(y_test, y_pred))"
   ]
  },
  {
   "cell_type": "code",
   "execution_count": 27,
   "metadata": {},
   "outputs": [],
   "source": [
    "model = AdaBoostClassifier()"
   ]
  },
  {
   "cell_type": "code",
   "execution_count": 28,
   "metadata": {},
   "outputs": [],
   "source": [
    "param_grid = {\n",
    "            'base_estimator': [DecisionTreeClassifier(max_depth=1), \n",
    "                               DecisionTreeClassifier(max_depth=2),\n",
    "                               DecisionTreeClassifier(max_depth=3)],\n",
    "            'n_estimators': np.arange(1,100,2),\n",
    "            'learning_rate': [0.01, 0.1, 0.5, 1],\n",
    "             }"
   ]
  },
  {
   "cell_type": "code",
   "execution_count": 29,
   "metadata": {},
   "outputs": [],
   "source": [
    "grid_cv = GridSearchCV(model, param_grid=param_grid, scoring ='f1', cv=skf.split(X,y))"
   ]
  },
  {
   "cell_type": "code",
   "execution_count": 30,
   "metadata": {},
   "outputs": [
    {
     "data": {
      "text/plain": [
       "{'base_estimator': DecisionTreeClassifier(ccp_alpha=0.0, class_weight=None, criterion='gini',\n",
       "                        max_depth=2, max_features=None, max_leaf_nodes=None,\n",
       "                        min_impurity_decrease=0.0, min_impurity_split=None,\n",
       "                        min_samples_leaf=1, min_samples_split=2,\n",
       "                        min_weight_fraction_leaf=0.0, presort='deprecated',\n",
       "                        random_state=None, splitter='best'),\n",
       " 'learning_rate': 1,\n",
       " 'n_estimators': 41}"
      ]
     },
     "execution_count": 30,
     "metadata": {},
     "output_type": "execute_result"
    }
   ],
   "source": [
    "grid_cv.fit(X.values, y.values)\n",
    "grid_cv.best_params_"
   ]
  },
  {
   "cell_type": "code",
   "execution_count": 31,
   "metadata": {},
   "outputs": [],
   "source": [
    "model = AdaBoostClassifier(**grid_cv.best_params_)"
   ]
  },
  {
   "cell_type": "code",
   "execution_count": 32,
   "metadata": {},
   "outputs": [
    {
     "name": "stdout",
     "output_type": "stream",
     "text": [
      "f1: 1.0\n",
      "- precision: 1.0\n",
      "- recall 1.0\n",
      "- confusion_matrix\n",
      "[[104   0]\n",
      " [  0   4]]\n",
      "f1: 1.0\n",
      "- precision: 1.0\n",
      "- recall 1.0\n",
      "- confusion_matrix\n",
      "[[104   0]\n",
      " [  0   4]]\n",
      "f1: 1.0\n",
      "- precision: 1.0\n",
      "- recall 1.0\n",
      "- confusion_matrix\n",
      "[[103   0]\n",
      " [  0   5]]\n",
      "f1: 0.7126810523204257\n",
      "- precision: 0.6614583333333334\n",
      "- recall 0.8611650485436894\n",
      "- confusion_matrix\n",
      "[[95  8]\n",
      " [ 1  4]]\n"
     ]
    }
   ],
   "source": [
    "for train_index, test_index in skf.split(X.values, y.values):\n",
    "    X_train, X_test = X.iloc[train_index], X.iloc[test_index]\n",
    "    y_train, y_test = y.iloc[train_index], y.iloc[test_index]\n",
    "    model.fit(X_train.values, y_train.values)\n",
    "    y_pred = model.predict(X_test.values)\n",
    "    print('f1:', metrics.f1_score(y_test, y_pred, average='macro'))\n",
    "    print('- precision:', metrics.precision_score(y_test, y_pred, average='macro'))\n",
    "    print('- recall', metrics.recall_score(y_test, y_pred, average='macro'))\n",
    "    print('- confusion_matrix')\n",
    "    print( metrics.confusion_matrix(y_test, y_pred))"
   ]
  },
  {
   "cell_type": "code",
   "execution_count": 33,
   "metadata": {},
   "outputs": [],
   "source": [
    "X_train, X_test, y_train, y_test = train_test_split(X.values, y.values, test_size=test_size, stratify=y.values)"
   ]
  },
  {
   "cell_type": "code",
   "execution_count": 34,
   "metadata": {},
   "outputs": [],
   "source": [
    "fit_model = model.fit(X_train, y_train)"
   ]
  },
  {
   "cell_type": "code",
   "execution_count": 35,
   "metadata": {},
   "outputs": [
    {
     "name": "stdout",
     "output_type": "stream",
     "text": [
      "f1: 0.9255774165953807\n",
      "- precision: 0.9940476190476191\n",
      "- recall 0.875\n",
      "- confusion_matrix\n",
      "[[83  0]\n",
      " [ 1  3]]\n"
     ]
    }
   ],
   "source": [
    "y_pred = fit_model.predict(X_test)\n",
    "print('f1:', metrics.f1_score(y_test, y_pred, average='macro'))\n",
    "print('- precision:', metrics.precision_score(y_test, y_pred, average='macro'))\n",
    "print('- recall', metrics.recall_score(y_test, y_pred, average='macro'))\n",
    "print('- confusion_matrix')\n",
    "print( metrics.confusion_matrix(y_test, y_pred))"
   ]
  },
  {
   "cell_type": "markdown",
   "metadata": {},
   "source": [
    "Random Forest"
   ]
  },
  {
   "cell_type": "code",
   "execution_count": 36,
   "metadata": {},
   "outputs": [],
   "source": [
    "model = RandomForestClassifier()"
   ]
  },
  {
   "cell_type": "code",
   "execution_count": 37,
   "metadata": {},
   "outputs": [],
   "source": [
    "param_grid = { \n",
    "                'n_estimators': [5, 10, 25, 50, 75, 100, 200],\n",
    "                'max_features': ['auto', 'sqrt', 'log2'],\n",
    "                'max_depth': [None, 1, 3, 5, 10]\n",
    "            \n",
    "            }"
   ]
  },
  {
   "cell_type": "code",
   "execution_count": 38,
   "metadata": {},
   "outputs": [],
   "source": [
    "grid_cv = GridSearchCV(model, param_grid=param_grid, scoring ='f1', cv=skf.split(X,y))"
   ]
  },
  {
   "cell_type": "code",
   "execution_count": 39,
   "metadata": {},
   "outputs": [
    {
     "data": {
      "text/plain": [
       "{'max_depth': 5, 'max_features': 'sqrt', 'n_estimators': 5}"
      ]
     },
     "execution_count": 39,
     "metadata": {},
     "output_type": "execute_result"
    }
   ],
   "source": [
    "grid_cv.fit(X.values, y.values)\n",
    "grid_cv.best_params_"
   ]
  },
  {
   "cell_type": "code",
   "execution_count": 40,
   "metadata": {},
   "outputs": [],
   "source": [
    "model = RandomForestClassifier(**grid_cv.best_params_)"
   ]
  },
  {
   "cell_type": "code",
   "execution_count": 41,
   "metadata": {},
   "outputs": [
    {
     "name": "stdout",
     "output_type": "stream",
     "text": [
      "f1: 1.0\n",
      "- precision: 1.0\n",
      "- recall 1.0\n",
      "- confusion_matrix\n",
      "[[104   0]\n",
      " [  0   4]]\n",
      "f1: 0.8285714285714285\n",
      "- precision: 0.9905660377358491\n",
      "- recall 0.75\n",
      "- confusion_matrix\n",
      "[[104   0]\n",
      " [  2   2]]\n",
      "f1: 0.8701923076923076\n",
      "- precision: 0.9904761904761905\n",
      "- recall 0.8\n",
      "- confusion_matrix\n",
      "[[103   0]\n",
      " [  2   3]]\n",
      "f1: 0.713527851458886\n",
      "- precision: 0.6775\n",
      "- recall 0.7757281553398059\n",
      "- confusion_matrix\n",
      "[[98  5]\n",
      " [ 2  3]]\n"
     ]
    }
   ],
   "source": [
    "for train_index, test_index in skf.split(X.values, y.values):\n",
    "    X_train, X_test = X.iloc[train_index], X.iloc[test_index]\n",
    "    y_train, y_test = y.iloc[train_index], y.iloc[test_index]\n",
    "    model.fit(X_train.values, y_train.values)\n",
    "    y_pred = model.predict(X_test.values)\n",
    "    print('f1:', metrics.f1_score(y_test, y_pred, average='macro'))\n",
    "    print('- precision:', metrics.precision_score(y_test, y_pred, average='macro'))\n",
    "    print('- recall', metrics.recall_score(y_test, y_pred, average='macro'))\n",
    "    print('- confusion_matrix')\n",
    "    print( metrics.confusion_matrix(y_test, y_pred))"
   ]
  },
  {
   "cell_type": "code",
   "execution_count": 42,
   "metadata": {},
   "outputs": [],
   "source": [
    "X_train, X_test, y_train, y_test = train_test_split(X.values, y.values, test_size=test_size, stratify=y.values)"
   ]
  },
  {
   "cell_type": "code",
   "execution_count": 43,
   "metadata": {},
   "outputs": [],
   "source": [
    "fit_model = model.fit(X_train, y_train)"
   ]
  },
  {
   "cell_type": "code",
   "execution_count": 44,
   "metadata": {},
   "outputs": [
    {
     "name": "stdout",
     "output_type": "stream",
     "text": [
      "f1: 0.9255774165953807\n",
      "- precision: 0.9940476190476191\n",
      "- recall 0.875\n",
      "- confusion_matrix\n",
      "[[83  0]\n",
      " [ 1  3]]\n"
     ]
    }
   ],
   "source": [
    "y_pred = fit_model.predict(X_test)\n",
    "print('f1:', metrics.f1_score(y_test, y_pred, average='macro'))\n",
    "print('- precision:', metrics.precision_score(y_test, y_pred, average='macro'))\n",
    "print('- recall', metrics.recall_score(y_test, y_pred, average='macro'))\n",
    "print('- confusion_matrix')\n",
    "print( metrics.confusion_matrix(y_test, y_pred))"
   ]
  },
  {
   "cell_type": "markdown",
   "metadata": {},
   "source": [
    "XG Boost"
   ]
  },
  {
   "cell_type": "code",
   "execution_count": 45,
   "metadata": {},
   "outputs": [],
   "source": [
    "model = XGBClassifier()"
   ]
  },
  {
   "cell_type": "code",
   "execution_count": 46,
   "metadata": {},
   "outputs": [],
   "source": [
    "param_grid = {\n",
    "                'bootstrap': [True],\n",
    "                'max_depth': [80, 90, 100, 110],\n",
    "                'max_features': [2, 3],\n",
    "                'min_samples_leaf': [3, 4, 5],\n",
    "                'min_samples_split': [8, 10, 12],\n",
    "                'n_estimators': [100, 200, 300, 1000]\n",
    "            }"
   ]
  },
  {
   "cell_type": "code",
   "execution_count": 47,
   "metadata": {},
   "outputs": [],
   "source": [
    "grid_cv = GridSearchCV(model, param_grid=param_grid, scoring ='f1', cv=skf.split(X,y))"
   ]
  },
  {
   "cell_type": "code",
   "execution_count": 48,
   "metadata": {
    "scrolled": true
   },
   "outputs": [
    {
     "data": {
      "text/plain": [
       "{'bootstrap': True,\n",
       " 'max_depth': 80,\n",
       " 'max_features': 2,\n",
       " 'min_samples_leaf': 3,\n",
       " 'min_samples_split': 8,\n",
       " 'n_estimators': 100}"
      ]
     },
     "execution_count": 48,
     "metadata": {},
     "output_type": "execute_result"
    }
   ],
   "source": [
    "grid_cv.fit(X.values, y.values)\n",
    "grid_cv.best_params_"
   ]
  },
  {
   "cell_type": "code",
   "execution_count": 49,
   "metadata": {},
   "outputs": [],
   "source": [
    "model = RandomForestClassifier(**grid_cv.best_params_)"
   ]
  },
  {
   "cell_type": "code",
   "execution_count": 50,
   "metadata": {},
   "outputs": [
    {
     "name": "stdout",
     "output_type": "stream",
     "text": [
      "f1: 0.9261790840738209\n",
      "- precision: 0.9952380952380953\n",
      "- recall 0.875\n",
      "- confusion_matrix\n",
      "[[104   0]\n",
      " [  1   3]]\n",
      "f1: 0.6928909952606634\n",
      "- precision: 0.985981308411215\n",
      "- recall 0.625\n",
      "- confusion_matrix\n",
      "[[104   0]\n",
      " [  3   1]]\n",
      "f1: 0.9420289855072463\n",
      "- precision: 0.9951923076923077\n",
      "- recall 0.9\n",
      "- confusion_matrix\n",
      "[[103   0]\n",
      " [  1   4]]\n",
      "f1: 0.7403846153846154\n",
      "- precision: 0.819047619047619\n",
      "- recall 0.6951456310679611\n",
      "- confusion_matrix\n",
      "[[102   1]\n",
      " [  3   2]]\n"
     ]
    }
   ],
   "source": [
    "for train_index, test_index in skf.split(X.values, y.values):\n",
    "    X_train, X_test = X.iloc[train_index], X.iloc[test_index]\n",
    "    y_train, y_test = y.iloc[train_index], y.iloc[test_index]\n",
    "    model.fit(X_train.values, y_train.values)\n",
    "    y_pred = model.predict(X_test.values)\n",
    "    print('f1:', metrics.f1_score(y_test, y_pred, average='macro'))\n",
    "    print('- precision:', metrics.precision_score(y_test, y_pred, average='macro'))\n",
    "    print('- recall', metrics.recall_score(y_test, y_pred, average='macro'))\n",
    "    print('- confusion_matrix')\n",
    "    print( metrics.confusion_matrix(y_test, y_pred))"
   ]
  },
  {
   "cell_type": "code",
   "execution_count": 51,
   "metadata": {},
   "outputs": [],
   "source": [
    "X_train, X_test, y_train, y_test = train_test_split(X.values, y.values, test_size=test_size, stratify=y.values)"
   ]
  },
  {
   "cell_type": "code",
   "execution_count": 52,
   "metadata": {},
   "outputs": [],
   "source": [
    "fit_model = model.fit(X_train, y_train)"
   ]
  },
  {
   "cell_type": "code",
   "execution_count": 53,
   "metadata": {
    "scrolled": true
   },
   "outputs": [
    {
     "name": "stdout",
     "output_type": "stream",
     "text": [
      "f1: 0.488235294117647\n",
      "- precision: 0.47701149425287354\n",
      "- recall 0.5\n",
      "- confusion_matrix\n",
      "[[83  0]\n",
      " [ 4  0]]\n"
     ]
    },
    {
     "name": "stderr",
     "output_type": "stream",
     "text": [
      "C:\\Users\\scors\\.conda\\envs\\raxar\\lib\\site-packages\\sklearn\\metrics\\_classification.py:1272: UndefinedMetricWarning: Precision is ill-defined and being set to 0.0 in labels with no predicted samples. Use `zero_division` parameter to control this behavior.\n",
      "  _warn_prf(average, modifier, msg_start, len(result))\n"
     ]
    }
   ],
   "source": [
    "y_pred = fit_model.predict(X_test)\n",
    "print('f1:', metrics.f1_score(y_test, y_pred, average='macro'))\n",
    "print('- precision:', metrics.precision_score(y_test, y_pred, average='macro'))\n",
    "print('- recall', metrics.recall_score(y_test, y_pred, average='macro'))\n",
    "print('- confusion_matrix')\n",
    "print( metrics.confusion_matrix(y_test, y_pred))"
   ]
  },
  {
   "cell_type": "markdown",
   "metadata": {},
   "source": [
    "Gradient Boosting"
   ]
  },
  {
   "cell_type": "code",
   "execution_count": 54,
   "metadata": {},
   "outputs": [],
   "source": [
    "model = GradientBoostingClassifier()"
   ]
  },
  {
   "cell_type": "code",
   "execution_count": 55,
   "metadata": {},
   "outputs": [],
   "source": [
    "param_grid = {\n",
    "                \"min_samples_split\": np.linspace(0.1, 0.5, 3),\n",
    "                \"min_samples_leaf\": np.linspace(0.1, 0.5, 3),\n",
    "                \"max_depth\":[3,5,8],\n",
    "                \"n_estimators\":[2, 5, 10, 15]\n",
    "                }"
   ]
  },
  {
   "cell_type": "code",
   "execution_count": 56,
   "metadata": {},
   "outputs": [],
   "source": [
    "grid_cv = GridSearchCV(model, param_grid=param_grid, scoring ='f1', cv=skf.split(X,y))"
   ]
  },
  {
   "cell_type": "code",
   "execution_count": 57,
   "metadata": {},
   "outputs": [
    {
     "data": {
      "text/plain": [
       "{'max_depth': 3,\n",
       " 'min_samples_leaf': 0.1,\n",
       " 'min_samples_split': 0.1,\n",
       " 'n_estimators': 15}"
      ]
     },
     "execution_count": 57,
     "metadata": {},
     "output_type": "execute_result"
    }
   ],
   "source": [
    "grid_cv.fit(X.values, y.values)\n",
    "grid_cv.best_params_"
   ]
  },
  {
   "cell_type": "code",
   "execution_count": 58,
   "metadata": {},
   "outputs": [],
   "source": [
    "model = GradientBoostingClassifier(**grid_cv.best_params_)"
   ]
  },
  {
   "cell_type": "code",
   "execution_count": 59,
   "metadata": {},
   "outputs": [],
   "source": [
    "X_train, X_test, y_train, y_test = train_test_split(X.values, y.values, test_size=test_size, stratify=y.values)"
   ]
  },
  {
   "cell_type": "code",
   "execution_count": 60,
   "metadata": {},
   "outputs": [],
   "source": [
    "fit_model = model.fit(X_train, y_train)"
   ]
  },
  {
   "cell_type": "code",
   "execution_count": 61,
   "metadata": {},
   "outputs": [
    {
     "name": "stdout",
     "output_type": "stream",
     "text": [
      "f1: 0.6911242603550296\n",
      "- precision: 0.9825581395348837\n",
      "- recall 0.625\n",
      "- confusion_matrix\n",
      "[[83  0]\n",
      " [ 3  1]]\n"
     ]
    }
   ],
   "source": [
    "y_pred = fit_model.predict(X_test)\n",
    "print('f1:', metrics.f1_score(y_test, y_pred, average='macro'))\n",
    "print('- precision:', metrics.precision_score(y_test, y_pred, average='macro'))\n",
    "print('- recall', metrics.recall_score(y_test, y_pred, average='macro'))\n",
    "print('- confusion_matrix')\n",
    "print( metrics.confusion_matrix(y_test, y_pred))"
   ]
  },
  {
   "cell_type": "code",
   "execution_count": 62,
   "metadata": {},
   "outputs": [
    {
     "name": "stdout",
     "output_type": "stream",
     "text": [
      "f1: 0.6928909952606634\n",
      "- precision: 0.985981308411215\n",
      "- recall 0.625\n",
      "- confusion_matrix\n",
      "[[104   0]\n",
      " [  3   1]]\n",
      "f1: 0.49056603773584906\n",
      "- precision: 0.48148148148148145\n",
      "- recall 0.5\n",
      "- confusion_matrix\n",
      "[[104   0]\n",
      " [  4   0]]\n",
      "f1: 0.4881516587677725\n",
      "- precision: 0.47685185185185186\n",
      "- recall 0.5\n",
      "- confusion_matrix\n",
      "[[103   0]\n",
      " [  5   0]]\n",
      "f1: 0.7975\n",
      "- precision: 0.7272727272727273\n",
      "- recall 0.970873786407767\n",
      "- confusion_matrix\n",
      "[[97  6]\n",
      " [ 0  5]]\n"
     ]
    },
    {
     "name": "stderr",
     "output_type": "stream",
     "text": [
      "C:\\Users\\scors\\.conda\\envs\\raxar\\lib\\site-packages\\sklearn\\metrics\\_classification.py:1272: UndefinedMetricWarning: Precision is ill-defined and being set to 0.0 in labels with no predicted samples. Use `zero_division` parameter to control this behavior.\n",
      "  _warn_prf(average, modifier, msg_start, len(result))\n",
      "C:\\Users\\scors\\.conda\\envs\\raxar\\lib\\site-packages\\sklearn\\metrics\\_classification.py:1272: UndefinedMetricWarning: Precision is ill-defined and being set to 0.0 in labels with no predicted samples. Use `zero_division` parameter to control this behavior.\n",
      "  _warn_prf(average, modifier, msg_start, len(result))\n"
     ]
    }
   ],
   "source": [
    "for train_index, test_index in skf.split(X.values, y.values):\n",
    "    X_train, X_test = X.iloc[train_index], X.iloc[test_index]\n",
    "    y_train, y_test = y.iloc[train_index], y.iloc[test_index]\n",
    "    model.fit(X_train.values, y_train.values)\n",
    "    y_pred = model.predict(X_test.values)\n",
    "    print('f1:', metrics.f1_score(y_test, y_pred, average='macro'))\n",
    "    print('- precision:', metrics.precision_score(y_test, y_pred, average='macro'))\n",
    "    print('- recall', metrics.recall_score(y_test, y_pred, average='macro'))\n",
    "    print('- confusion_matrix')\n",
    "    print( metrics.confusion_matrix(y_test, y_pred))"
   ]
  },
  {
   "cell_type": "code",
   "execution_count": 63,
   "metadata": {},
   "outputs": [],
   "source": [
    "X_train, X_test, y_train, y_test = train_test_split(X.values, y.values, test_size=test_size, stratify=y.values)"
   ]
  },
  {
   "cell_type": "code",
   "execution_count": 64,
   "metadata": {},
   "outputs": [
    {
     "name": "stdout",
     "output_type": "stream",
     "text": [
      "f1: 0.8242424242424242\n",
      "- precision: 0.7939024390243903\n",
      "- recall 0.8629518072289157\n",
      "- confusion_matrix\n",
      "[[81  2]\n",
      " [ 1  3]]\n"
     ]
    }
   ],
   "source": [
    "y_pred = fit_model.predict(X_test)\n",
    "print('f1:', metrics.f1_score(y_test, y_pred, average='macro'))\n",
    "print('- precision:', metrics.precision_score(y_test, y_pred, average='macro'))\n",
    "print('- recall', metrics.recall_score(y_test, y_pred, average='macro'))\n",
    "print('- confusion_matrix')\n",
    "print( metrics.confusion_matrix(y_test, y_pred))"
   ]
  },
  {
   "cell_type": "markdown",
   "metadata": {},
   "source": [
    "#### Final Model"
   ]
  },
  {
   "cell_type": "markdown",
   "metadata": {},
   "source": [
    "**XG Boost**"
   ]
  },
  {
   "cell_type": "code",
   "execution_count": 65,
   "metadata": {},
   "outputs": [],
   "source": [
    "model = XGBClassifier()"
   ]
  },
  {
   "cell_type": "code",
   "execution_count": 66,
   "metadata": {},
   "outputs": [],
   "source": [
    "param_grid = {\n",
    "                'bootstrap': [True],\n",
    "                'max_depth': [80, 90, 100, 110],\n",
    "                'max_features': [2, 3],\n",
    "                'min_samples_leaf': [3, 4, 5],\n",
    "                'min_samples_split': [8, 10, 12],\n",
    "                'n_estimators': [100, 200, 300, 1000]\n",
    "            }"
   ]
  },
  {
   "cell_type": "code",
   "execution_count": 67,
   "metadata": {},
   "outputs": [],
   "source": [
    "grid_cv = GridSearchCV(model, param_grid=param_grid, scoring ='f1', cv=skf.split(X,y))"
   ]
  },
  {
   "cell_type": "code",
   "execution_count": 68,
   "metadata": {
    "scrolled": true
   },
   "outputs": [
    {
     "data": {
      "text/plain": [
       "{'bootstrap': True,\n",
       " 'max_depth': 80,\n",
       " 'max_features': 2,\n",
       " 'min_samples_leaf': 3,\n",
       " 'min_samples_split': 8,\n",
       " 'n_estimators': 100}"
      ]
     },
     "execution_count": 68,
     "metadata": {},
     "output_type": "execute_result"
    }
   ],
   "source": [
    "grid_cv.fit(X.values, y.values)\n",
    "grid_cv.best_params_"
   ]
  },
  {
   "cell_type": "code",
   "execution_count": 75,
   "metadata": {},
   "outputs": [],
   "source": [
    "model = XGBClassifier(**grid_cv.best_params_)"
   ]
  },
  {
   "cell_type": "code",
   "execution_count": 76,
   "metadata": {},
   "outputs": [
    {
     "name": "stdout",
     "output_type": "stream",
     "text": [
      "f1: 1.0\n",
      "- precision: 1.0\n",
      "- recall 1.0\n",
      "- confusion_matrix\n",
      "[[104   0]\n",
      " [  0   4]]\n",
      "f1: 0.8285714285714285\n",
      "- precision: 0.9905660377358491\n",
      "- recall 0.75\n",
      "- confusion_matrix\n",
      "[[104   0]\n",
      " [  2   2]]\n",
      "f1: 0.9420289855072463\n",
      "- precision: 0.9951923076923077\n",
      "- recall 0.9\n",
      "- confusion_matrix\n",
      "[[103   0]\n",
      " [  1   4]]\n",
      "f1: 0.7765297073603311\n",
      "- precision: 0.7083333333333334\n",
      "- recall 0.9660194174757282\n",
      "- confusion_matrix\n",
      "[[96  7]\n",
      " [ 0  5]]\n"
     ]
    }
   ],
   "source": [
    "for train_index, test_index in skf.split(X.values, y.values):\n",
    "    X_train, X_test = X.iloc[train_index], X.iloc[test_index]\n",
    "    y_train, y_test = y.iloc[train_index], y.iloc[test_index]\n",
    "    model.fit(X_train.values, y_train.values)\n",
    "    y_pred = model.predict(X_test.values)\n",
    "    print('f1:', metrics.f1_score(y_test, y_pred, average='macro'))\n",
    "    print('- precision:', metrics.precision_score(y_test, y_pred, average='macro'))\n",
    "    print('- recall', metrics.recall_score(y_test, y_pred, average='macro'))\n",
    "    print('- confusion_matrix')\n",
    "    print( metrics.confusion_matrix(y_test, y_pred))"
   ]
  },
  {
   "cell_type": "code",
   "execution_count": 86,
   "metadata": {},
   "outputs": [],
   "source": [
    "X_train, X_test, y_train, y_test = train_test_split(X.values, y.values, test_size=test_size, stratify=y.values)"
   ]
  },
  {
   "cell_type": "code",
   "execution_count": 87,
   "metadata": {},
   "outputs": [],
   "source": [
    "fit_model = model.fit(X_train, y_train)"
   ]
  },
  {
   "cell_type": "code",
   "execution_count": 88,
   "metadata": {
    "scrolled": true
   },
   "outputs": [
    {
     "name": "stdout",
     "output_type": "stream",
     "text": [
      "f1: 0.8273809523809523\n",
      "- precision: 0.9882352941176471\n",
      "- recall 0.75\n",
      "- confusion_matrix\n",
      "[[83  0]\n",
      " [ 2  2]]\n"
     ]
    }
   ],
   "source": [
    "y_pred = fit_model.predict(X_test)\n",
    "print('f1:', metrics.f1_score(y_test, y_pred, average='macro'))\n",
    "print('- precision:', metrics.precision_score(y_test, y_pred, average='macro'))\n",
    "print('- recall', metrics.recall_score(y_test, y_pred, average='macro'))\n",
    "print('- confusion_matrix')\n",
    "print( metrics.confusion_matrix(y_test, y_pred))"
   ]
  },
  {
   "cell_type": "code",
   "execution_count": 89,
   "metadata": {},
   "outputs": [
    {
     "data": {
      "text/plain": [
       "XGBClassifier(base_score=0.5, booster=None, bootstrap=True, colsample_bylevel=1,\n",
       "              colsample_bynode=1, colsample_bytree=1, gamma=0, gpu_id=-1,\n",
       "              importance_type='gain', interaction_constraints=None,\n",
       "              learning_rate=0.300000012, max_delta_step=0, max_depth=80,\n",
       "              max_features=2, min_child_weight=1, min_samples_leaf=3,\n",
       "              min_samples_split=8, missing=nan, monotone_constraints=None,\n",
       "              n_estimators=100, n_jobs=0, num_parallel_tree=1,\n",
       "              objective='binary:logistic', random_state=0, reg_alpha=0,\n",
       "              reg_lambda=1, scale_pos_weight=1, subsample=1, tree_method=None,\n",
       "              validate_parameters=False, ...)"
      ]
     },
     "execution_count": 89,
     "metadata": {},
     "output_type": "execute_result"
    }
   ],
   "source": [
    "model"
   ]
  },
  {
   "cell_type": "code",
   "execution_count": 91,
   "metadata": {},
   "outputs": [],
   "source": [
    "classification_model = {'df': df,\n",
    "                         'X': X,\n",
    "                         'y': y,\n",
    "                         'model':model\n",
    "                         }"
   ]
  },
  {
   "cell_type": "code",
   "execution_count": 93,
   "metadata": {},
   "outputs": [],
   "source": [
    "import pickle\n",
    "# save model\n",
    "with open('../models/classification_model.pkl', 'wb') as f:\n",
    "    pickle.dump(classification_model, f)"
   ]
  },
  {
   "cell_type": "code",
   "execution_count": 94,
   "metadata": {},
   "outputs": [],
   "source": [
    "with open('../models/classification_model.pkl', 'rb') as f:\n",
    "    classification_model = pickle.load(f)"
   ]
  },
  {
   "cell_type": "code",
   "execution_count": 96,
   "metadata": {},
   "outputs": [
    {
     "data": {
      "text/plain": [
       "XGBClassifier(base_score=0.5, booster=None, bootstrap=True, colsample_bylevel=1,\n",
       "              colsample_bynode=1, colsample_bytree=1, gamma=0, gpu_id=-1,\n",
       "              importance_type='gain', interaction_constraints=None,\n",
       "              learning_rate=0.300000012, max_delta_step=0, max_depth=80,\n",
       "              max_features=2, min_child_weight=1, min_samples_leaf=3,\n",
       "              min_samples_split=8, missing=nan, monotone_constraints=None,\n",
       "              n_estimators=100, n_jobs=0, num_parallel_tree=1,\n",
       "              objective='binary:logistic', random_state=0, reg_alpha=0,\n",
       "              reg_lambda=1, scale_pos_weight=1, subsample=1, tree_method=None,\n",
       "              validate_parameters=False, ...)"
      ]
     },
     "execution_count": 96,
     "metadata": {},
     "output_type": "execute_result"
    }
   ],
   "source": [
    "classification_model['model']"
   ]
  },
  {
   "cell_type": "code",
   "execution_count": 99,
   "metadata": {},
   "outputs": [],
   "source": [
    "y = classification_model['model'].predict(X.values)"
   ]
  },
  {
   "cell_type": "code",
   "execution_count": 102,
   "metadata": {},
   "outputs": [],
   "source": [
    "df['predict'] = y"
   ]
  },
  {
   "cell_type": "code",
   "execution_count": 112,
   "metadata": {},
   "outputs": [
    {
     "data": {
      "text/plain": [
       "file    index\n",
       "1.jpg   22       87.50\n",
       "2.jpg   19       87.50\n",
       "3.jpg   10         152\n",
       "4.jpg   7          122\n",
       "5.jpg   4          122\n",
       "6.jpg   8           87\n",
       "7.jpg   9           87\n",
       "8.jpg   9           87\n",
       "9.jpg   9          152\n",
       "10.jpg  10         152\n",
       "11.jpg  20       87.50\n",
       "12.jpg  19       87.50\n",
       "13.jpg  9          152\n",
       "14.jpg  8           87\n",
       "17.jpg  12         143\n",
       "18.jpg  10         114\n",
       "Name: text_join, dtype: object"
      ]
     },
     "execution_count": 112,
     "metadata": {},
     "output_type": "execute_result"
    }
   ],
   "source": [
    "df[df['predict']==1]['text_join']"
   ]
  }
 ],
 "metadata": {
  "hide_input": false,
  "kernelspec": {
   "display_name": "Python 3",
   "language": "python",
   "name": "python3"
  },
  "language_info": {
   "codemirror_mode": {
    "name": "ipython",
    "version": 3
   },
   "file_extension": ".py",
   "mimetype": "text/x-python",
   "name": "python",
   "nbconvert_exporter": "python",
   "pygments_lexer": "ipython3",
   "version": "3.7.6"
  }
 },
 "nbformat": 4,
 "nbformat_minor": 4
}
